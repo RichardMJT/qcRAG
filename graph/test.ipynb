{
 "cells": [
  {
   "cell_type": "code",
   "execution_count": 7,
   "metadata": {},
   "outputs": [],
   "source": [
    "from crag import GraphPoint\n"
   ]
  },
  {
   "cell_type": "code",
   "execution_count": 8,
   "metadata": {},
   "outputs": [
    {
     "ename": "TypeError",
     "evalue": "GraphPoint.__init__() missing 4 required positional arguments: 'rag_chain', 'retrieval_grader', 'question_rewriter', and 'web_search_tool'",
     "output_type": "error",
     "traceback": [
      "\u001b[0;31m---------------------------------------------------------------------------\u001b[0m",
      "\u001b[0;31mTypeError\u001b[0m                                 Traceback (most recent call last)",
      "Cell \u001b[0;32mIn[8], line 1\u001b[0m\n\u001b[0;32m----> 1\u001b[0m graph \u001b[38;5;241m=\u001b[39m \u001b[43mGraphPoint\u001b[49m\u001b[43m(\u001b[49m\u001b[38;5;124;43m'\u001b[39;49m\u001b[38;5;124;43m'\u001b[39;49m\u001b[43m)\u001b[49m\n",
      "\u001b[0;31mTypeError\u001b[0m: GraphPoint.__init__() missing 4 required positional arguments: 'rag_chain', 'retrieval_grader', 'question_rewriter', and 'web_search_tool'"
     ]
    }
   ],
   "source": [
    "graph = GraphPoint('')"
   ]
  },
  {
   "cell_type": "code",
   "execution_count": 3,
   "metadata": {},
   "outputs": [],
   "source": [
    "app = graph.bulid_graph()"
   ]
  },
  {
   "cell_type": "code",
   "execution_count": 5,
   "metadata": {},
   "outputs": [
    {
     "name": "stdout",
     "output_type": "stream",
     "text": [
      "---RETRIEVE---\n",
      "\"Node 'retrieve':\"\n",
      "'\\n---\\n'\n",
      "---CHECK DOCUMENT RELEVANCE TO QUESTION---\n",
      "---GRADE: DOCUMENT NOT RELEVANT---\n",
      "---GRADE: DOCUMENT NOT RELEVANT---\n",
      "---ASSESS GRADED DOCUMENTS---\n",
      "---DECISION: ALL DOCUMENTS ARE NOT RELEVANT TO QUESTION, TRANSFORM QUERY---\n",
      "\"Node 'grade_documents':\"\n",
      "'\\n---\\n'\n",
      "---TRANSFORM QUERY---\n",
      "\"Node 'transform_query':\"\n",
      "'\\n---\\n'\n",
      "---WEB SEARCH---\n",
      "\"Node 'web_search_node':\"\n",
      "'\\n---\\n'\n",
      "---GENERATE---\n",
      "\"Node 'generate':\"\n",
      "'\\n---\\n'\n",
      "('蔡徐坤，出生于1998年8月2日，中国内地男歌手、演员、原创音乐制作人及MV导演。他的知名个人原创作品包括单曲《I Wanna Get '\n",
      " 'Love》、《Hard To Get》等，以及EP《1》和最新专辑《迷》。他于2012年通过参加综艺节目《向上吧！少年》进入娱乐圈。')\n"
     ]
    }
   ],
   "source": [
    "from pprint import pprint\n",
    "\n",
    "# Run\n",
    "inputs = {\"question\": \"介绍一下蔡徐坤\"}\n",
    "for output in app.stream(inputs):\n",
    "    for key, value in output.items():\n",
    "        # Node\n",
    "        pprint(f\"Node '{key}':\")\n",
    "        # Optional: print full state at each node\n",
    "        # pprint.pprint(value[\"keys\"], indent=2, width=80, depth=None)\n",
    "    pprint(\"\\n---\\n\")\n",
    "\n",
    "# Final generation\n",
    "pprint(value[\"generation\"])"
   ]
  },
  {
   "cell_type": "code",
   "execution_count": 2,
   "metadata": {},
   "outputs": [],
   "source": [
    "import sys\n",
    "import os\n",
    "absPath = os.path.abspath(os.getcwd())   #返回代码段所在的位置，肯定是在某个.py文件中\n",
    "temPath01 = os.path.dirname(absPath)    #往上返回一级目录，得到文件所在的路径\n",
    "temPath = os.path.dirname(temPath01)    #在往上返回一级，得到文件夹所在的路径\n",
    "sys.path.append(temPath01)   \n",
    "sys.path.append(temPath)   "
   ]
  },
  {
   "cell_type": "code",
   "execution_count": 3,
   "metadata": {},
   "outputs": [],
   "source": [
    "from tool.search import get_web_search_tool"
   ]
  },
  {
   "cell_type": "code",
   "execution_count": 4,
   "metadata": {},
   "outputs": [],
   "source": [
    "tool = get_web_search_tool()"
   ]
  },
  {
   "cell_type": "code",
   "execution_count": 6,
   "metadata": {},
   "outputs": [
    {
     "data": {
      "text/plain": [
       "\"['关于我们 ... 逸检科技是一家专业从事分子检测技术解决方案提供的研发型公司。公司着眼于用户对疾病、病原体自助检测的未来趋势，打造走进基层医疗机构，服务大众的分子检测 ...', '产品介绍：微检测WeD™-1可视化手持核酸检测仪是一种可循环使用的、便携的、易操作的、具有极高性价比的核酸检测设备，重量280g，能与手机实时交互，可放入背包，是核酸居家 ...', '产品介绍：微检测WeDTM-1可视化手持核酸检测仪是一种可循环使用的、便携的、易操作的、具有极高性价比的核酸检测设备，重量280g，能与手机实时交互，可放入 ...', '长期致力于分子诊断方法与检测仪器的研究，通过分析化学、分子生物学以及工程技术（机械、电子、计算机等）的多学科交叉研究发展了一系列分子诊断的新原理、新方法和新装置。', '微检测WeD-mini —— 个人掌上核酸检测仪————我们致力于用微检测实现We检测【产品介绍】微检测WeD-mini是在WeD-1核酸检测仪的基础上进行精简优化的个人便携型核酸检测 ...', '待遇：年薪12-20万，业绩优秀者另有年终奖、股权等激励；公司有专门车辆，供外出业务使用。招聘条件：1.对IVD行业有极大兴趣，对分子POCT居家检测或液体活检 ...', '思码逸（北京思码逸科技有限公司）成立于2018年，致力于提供研发数字化、智能化的解决方案，提升全行业的软件工程水平，助力研发团队创造更多价值。']\""
      ]
     },
     "execution_count": 6,
     "metadata": {},
     "output_type": "execute_result"
    }
   ],
   "source": [
    "tool.run('逸检科技')"
   ]
  }
 ],
 "metadata": {
  "kernelspec": {
   "display_name": "RAG",
   "language": "python",
   "name": "python3"
  },
  "language_info": {
   "codemirror_mode": {
    "name": "ipython",
    "version": 3
   },
   "file_extension": ".py",
   "mimetype": "text/x-python",
   "name": "python",
   "nbconvert_exporter": "python",
   "pygments_lexer": "ipython3",
   "version": "3.10.14"
  }
 },
 "nbformat": 4,
 "nbformat_minor": 2
}
