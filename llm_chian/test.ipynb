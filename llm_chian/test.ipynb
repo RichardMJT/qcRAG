{
 "cells": [
  {
   "cell_type": "code",
   "execution_count": 2,
   "metadata": {},
   "outputs": [],
   "source": [
    "from retrieval_grader import get_retrieval_grader\n",
    "\n",
    "\n",
    "retrieval_grader = get_retrieval_grader('qwen-max', 0, 'sk-83f939a7ee424d588c176662a9636061')\n"
   ]
  },
  {
   "cell_type": "code",
   "execution_count": 3,
   "metadata": {},
   "outputs": [
    {
     "name": "stderr",
     "output_type": "stream",
     "text": [
      "/home/ezdx/anaconda3/envs/RAG/lib/python3.10/site-packages/sentence_transformers/cross_encoder/CrossEncoder.py:11: TqdmExperimentalWarning: Using `tqdm.autonotebook.tqdm` in notebook mode. Use `tqdm.tqdm` instead to force console mode (e.g. in jupyter console)\n",
      "  from tqdm.autonotebook import tqdm, trange\n"
     ]
    }
   ],
   "source": [
    "import os\n",
    "import sys\n",
    "sys.path.append(os.path.join('../'))\n",
    "sys.path.append(os.path.join('./'))\n",
    "from database.get_vectordb import get_vectordb\n",
    "\n",
    "\n",
    "## 获取检索器\n",
    "\n",
    "file_path:str = \"../knowledge_db\"\n",
    "persist_path:str = \"../vector_db/chroma\"\n",
    "\n",
    "vectordb = get_vectordb(file_path, persist_path)\n",
    "\n",
    "retriever = vectordb.as_retriever(search_type=\"similarity\",   \n",
    "                                        search_kwargs={'k': 2}) \n"
   ]
  },
  {
   "cell_type": "code",
   "execution_count": 4,
   "metadata": {},
   "outputs": [
    {
     "name": "stderr",
     "output_type": "stream",
     "text": [
      "/home/ezdx/anaconda3/envs/RAG/lib/python3.10/site-packages/langchain_core/_api/deprecation.py:139: LangChainDeprecationWarning: The method `BaseRetriever.get_relevant_documents` was deprecated in langchain-core 0.1.46 and will be removed in 0.3.0. Use invoke instead.\n",
      "  warn_deprecated(\n"
     ]
    },
    {
     "data": {
      "text/plain": [
       "[Document(metadata={'author': '', 'creationDate': \"D:20240410180518+10'05'\", 'creator': 'WPS 演示', 'file_path': 'crag/knowledge_db/mini中文说明书底板_20240410180518.pdf', 'format': 'PDF 1.7', 'keywords': '', 'modDate': \"D:20240410180518+10'05'\", 'page': 1, 'producer': '', 'source': 'crag/knowledge_db/mini中文说明书底板_20240410180518.pdf', 'subject': '', 'title': '', 'total_pages': 8, 'trapped': ''}, page_content='WeD™-mini可快速应用于新冠病毒、流感等疾病的居家自检，还能\\n进行HIV的定量分析以及肉源性、转基因等检测，提供及时准确的\\n个人健康和食品安全信息。'),\n",
       " Document(metadata={'author': '', 'creationDate': \"D:20240410180518+10'05'\", 'creator': 'WPS 演示', 'file_path': 'crag/knowledge_db/mini中文说明书底板_20240410180518.pdf', 'format': 'PDF 1.7', 'keywords': '', 'modDate': \"D:20240410180518+10'05'\", 'page': 2, 'producer': '', 'source': 'crag/knowledge_db/mini中文说明书底板_20240410180518.pdf', 'subject': '', 'title': '', 'total_pages': 8, 'trapped': ''}, page_content='需昂贵的仪器和繁琐的操作。此外，WeD-mini支持使用手机充电器\\n或充电宝供电，让你无忧电量不足，随时随地进行核酸检测。\\n便携设计：WeD-mini小巧轻便，可轻松放入背包或口袋，随时携\\n带。无论何时何地，你都能方便进行个人核酸检测，确保自身安\\n全与健康。微检测WeD-mini，为你的健康保驾护航，随时掌握核\\n酸信息，让核酸检测随处可做。')]"
      ]
     },
     "execution_count": 4,
     "metadata": {},
     "output_type": "execute_result"
    }
   ],
   "source": [
    "question = \"wed-mini\"\n",
    "docs = retriever.get_relevant_documents(question)\n",
    "docs"
   ]
  },
  {
   "cell_type": "code",
   "execution_count": 5,
   "metadata": {},
   "outputs": [
    {
     "name": "stdout",
     "output_type": "stream",
     "text": [
      "binary_score='yes'\n"
     ]
    }
   ],
   "source": [
    "doc_txt = docs[1].page_content\n",
    "print(retrieval_grader.invoke({\"question\": question, \"document\": doc_txt}))"
   ]
  },
  {
   "cell_type": "code",
   "execution_count": 7,
   "metadata": {},
   "outputs": [],
   "source": [
    "from rag_chain import get_rag_chain\n",
    "\n",
    "rag_chain = get_rag_chain('qwen-max', 0, 'sk-83f939a7ee424d588c176662a9636061')"
   ]
  },
  {
   "cell_type": "code",
   "execution_count": 11,
   "metadata": {},
   "outputs": [
    {
     "name": "stdout",
     "output_type": "stream",
     "text": [
      "We\n",
      "D\n",
      "™\n",
      "-mini是一种便携\n",
      "式的自检设备，能够快速进行\n",
      "新冠病毒、流感等疾病的居家检测，\n",
      "还支持HIV定量分析及食品安全\n",
      "检测。它无需复杂设备，支持\n",
      "移动电源供电，设计便携，\n",
      "方便用户随时随地进行核酸检测，确保个人\n",
      "健康安全。\n"
     ]
    }
   ],
   "source": [
    "# Run\n",
    "generation = rag_chain.stream({\"context\": docs, \"question\": question})\n",
    "print(generation)"
   ]
  },
  {
   "cell_type": "code",
   "execution_count": 12,
   "metadata": {},
   "outputs": [
    {
     "data": {
      "text/plain": [
       "'It seems like the initial query \"wed-mini\" might be a typo or incomplete, making it difficult to understand the intended context or meaning. To provide a more optimized version for web search, I would need to make some assumptions about the possible intent behind the query. Here are a few potential rewrites based on different interpretations:\\n\\n1. **If \"wed-mini\" is meant to refer to a wedding miniature:**\\n   \"Where can I find miniature wedding decorations or favors?\"\\n\\n2. **If it\\'s a typo for \"wedding planning\":**\\n   \"What are the essential steps for effective wedding planning?\"\\n\\n3. **If it refers to a specific product like a \"wedding mini dress\":**\\n   \"Recommendations for stylish mini dresses suitable for weddings\"\\n\\n4. **Assuming it\\'s related to a \"wedding minimoon\" (a short honeymoon):**\\n   \"Ideas for romantic minimoon destinations after a wedding\"\\n\\nPlease provide more context if available, so I can further refine the question to better match your search intent.'"
      ]
     },
     "execution_count": 12,
     "metadata": {},
     "output_type": "execute_result"
    }
   ],
   "source": [
    "from question_re_writer import get_question_rewriter\n",
    "\n",
    "question_rewriter = get_question_rewriter('qwen-max', 0, 'sk-83f939a7ee424d588c176662a9636061')\n",
    "\n",
    "question_rewriter.invoke({\"question\": question})"
   ]
  },
  {
   "cell_type": "code",
   "execution_count": null,
   "metadata": {},
   "outputs": [],
   "source": []
  }
 ],
 "metadata": {
  "kernelspec": {
   "display_name": "RAG",
   "language": "python",
   "name": "python3"
  },
  "language_info": {
   "codemirror_mode": {
    "name": "ipython",
    "version": 3
   },
   "file_extension": ".py",
   "mimetype": "text/x-python",
   "name": "python",
   "nbconvert_exporter": "python",
   "pygments_lexer": "ipython3",
   "version": "3.10.14"
  }
 },
 "nbformat": 4,
 "nbformat_minor": 2
}
