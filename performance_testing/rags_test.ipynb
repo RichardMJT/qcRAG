{
 "cells": [
  {
   "cell_type": "code",
   "execution_count": 5,
   "metadata": {},
   "outputs": [],
   "source": [
    "import os\n",
    "import sys\n",
    "sys.path.append(os.path.join('../'))\n",
    "sys.path.append(os.path.join('./'))\n",
    "\n",
    "from database.get_vectordb import get_vectordb\n",
    "from llm_chian.rag_chain import get_rag_chain\n",
    "from llm_chian.retrieval_grader import get_retrieval_grader\n",
    "from llm_chian.question_re_writer import get_question_rewriter\n",
    "from tool.search import get_web_search_tool\n",
    "from graph.crag import GraphPoint"
   ]
  },
  {
   "cell_type": "code",
   "execution_count": 7,
   "metadata": {},
   "outputs": [],
   "source": [
    "file_path='../knowledge_db'\n",
    "persist_path = '../vector_db/chroma'\n",
    "api_key=''\n",
    "embedding='bge'\n",
    "model:str='qwen-max'\n",
    "temperature:float=0.0\n",
    "top_k:int=4\n",
    "chat_history:list=[]\n",
    "search_type=\"similarity\"\n",
    "search_kwargs={'k': 4}\n",
    "# 创建向量数据库\n",
    "vectordb = get_vectordb(file_path, persist_path)\n",
    "# 创建检索器\n",
    "retriever = vectordb.as_retriever(search_type=search_type, search_kwargs=search_kwargs)\n",
    "rag_chain = get_rag_chain(model = model, temperature = temperature, api_key = api_key)\n",
    "retrieval_grader = get_retrieval_grader(model = model, temperature = temperature, api_key = api_key)\n",
    "question_rewriter = get_question_rewriter(model = model, temperature = temperature, api_key = api_key)\n",
    "web_search_tool = get_web_search_tool() "
   ]
  },
  {
   "cell_type": "code",
   "execution_count": 8,
   "metadata": {},
   "outputs": [],
   "source": [
    "from graph.crag import GraphPoint\n",
    "graph = GraphPoint(retriever, rag_chain, retrieval_grader, question_rewriter, web_search_tool)\n",
    "app = graph.bulid_graph()"
   ]
  },
  {
   "cell_type": "code",
   "execution_count": 34,
   "metadata": {},
   "outputs": [],
   "source": [
    "questions = ['WeD™-mini个人掌上核酸荧光检测仪的主要功能有哪些？ /介绍一下WeD™-mini', \n",
    "             'WeD™-mini如何实现手机端荧光实时定量和结果自动判读？',\n",
    "             'WeD™-mini的便携设计有哪些特点？',\n",
    "             '使用WeD™-mini时有哪些注意事项？ ',\n",
    "             ' 如何通过手机APP修改WeD-mini的运行参数？ ',\n",
    "             'app/手机无法连接蓝牙',\n",
    "            '小程序/微信/手机无法连接蓝牙',\n",
    "             '设备无法开机、连接蓝牙',\n",
    "             '如何联系该产品的生产公司？']\n",
    "\n",
    "\n",
    "ground_truths = ['WeD™-mini是一款个人便携型核酸检测设备，重量仅为61克，保留了两个检测孔，适合个人使用。它适用于LAMP、RPA、LAMP-CRISPR、RPA-CRISPR、LAMP-PfAgo等恒温检测路线，可用于新冠病毒、流感等疾病的居家自检，HIV的定量分析，以及肉源性、转基因等检测，提供及时准确的个人健康和食品安全信息。',\n",
    "                 'WeD™-mini通过与手机连接，用户可以方便地在手机端查看检测结果并进行定量分析。操作流程包括插上电源（Type C），连接蓝牙，点击手机界面“Start Run”，手机屏幕变亮，仪器开始运行，用户可通过手机实时观察荧光检测信号和加热状态。反应程序执行完毕后，手机屏幕变灰，结果自动判读。',\n",
    "                 'WeD™-mini小巧轻便，重量仅为61克，可以轻松放入背包或口袋，方便用户随时携带。无论何时何地，用户都能方便进行个人核酸检测，确保自身安全与健康。',\n",
    "                 '使用WeD™-mini时应注意以下事项：1、 适配200µL PCR管，不适配100µL PCR管。2、 使用手机App或微信小程序时，保持蓝牙打开和位置信息共享。3、 使用冻干试剂时，确保试剂已充分溶解并混匀。4、 可使用5-24V电源，推荐使用手机快充充电电源。5、 设计实验时，先执行温度较低的反应阶段，后执行温度较高的反应阶段。6、 避免在仪器运行时触摸加热片，以免烫伤。7、 不要将产品长期工作或放置在潮湿环境中。8、 发生损坏后请联系制造商或其他服务代理商维修。',\n",
    "                 '通过以下步骤修改WeD-mini的运行参数：1、打开手机APP（或微信小程序）搜索仪器并链接。2、通过手机APP（或微信小程序）设置加热程序，并保存。',\n",
    "                 '确保手机蓝牙已开启，以及设备已经接通电源，检查WeD™-mini是否已开机并处于可连接状态。如果使用App连接，请确保已经赋予应用定位权限/使用蓝牙的权限。',\n",
    "                 '确保手机蓝牙已开启，以及设备已经接通电源，检查WeD™-mini是否已开机并处于可连接状态。如果使用App连接，请确保已经赋予微信定位权限/使用蓝牙的权限并在微信内部设置允许使用蓝牙。',\n",
    "                 '检查电源线是否连接正确，确保使用的是5-24V的电源，推荐使用手机快充充电电源。',\n",
    "                 '杭州逸检科技有限公司联系方式： 电话：0571-88121369。邮箱：147958789@qq.com 网站：ww.ezdxtech.com']"
   ]
  },
  {
   "cell_type": "code",
   "execution_count": 13,
   "metadata": {},
   "outputs": [
    {
     "data": {
      "text/plain": [
       "[Document(metadata={'author': '', 'creationDate': \"D:20240410180518+10'05'\", 'creator': 'WPS 演示', 'file_path': 'crag/knowledge_db/mini中文说明书底板_20240410180518.pdf', 'format': 'PDF 1.7', 'keywords': '', 'modDate': \"D:20240410180518+10'05'\", 'page': 2, 'producer': '', 'source': 'crag/knowledge_db/mini中文说明书底板_20240410180518.pdf', 'subject': '', 'title': '', 'total_pages': 8, 'trapped': ''}, page_content='杭州逸检科技有限公司         电话: 0571-88121369 \\n邮箱: 147958789@qq.com       网址: www.ezdxtech.com\\n全新功能：WeD-mini实现了手机端荧光实时定量和结果自动判读。\\n通过与手机连接，你可以方便地查看检测结果并进行定量分析，无\\n需昂贵的仪器和繁琐的操作。此外，WeD-mini支持使用手机充电器'),\n",
       " Document(metadata={'author': '', 'creationDate': \"D:20240410180518+10'05'\", 'creator': 'WPS 演示', 'file_path': 'crag/knowledge_db/mini中文说明书底板_20240410180518.pdf', 'format': 'PDF 1.7', 'keywords': '', 'modDate': \"D:20240410180518+10'05'\", 'page': 2, 'producer': '', 'source': 'crag/knowledge_db/mini中文说明书底板_20240410180518.pdf', 'subject': '', 'title': '', 'total_pages': 8, 'trapped': ''}, page_content='需昂贵的仪器和繁琐的操作。此外，WeD-mini支持使用手机充电器\\n或充电宝供电，让你无忧电量不足，随时随地进行核酸检测。\\n便携设计：WeD-mini小巧轻便，可轻松放入背包或口袋，随时携\\n带。无论何时何地，你都能方便进行个人核酸检测，确保自身安\\n全与健康。微检测WeD-mini，为你的健康保驾护航，随时掌握核\\n酸信息，让核酸检测随处可做。'),\n",
       " Document(metadata={'author': '', 'creationDate': \"D:20240410180518+10'05'\", 'creator': 'WPS 演示', 'file_path': 'crag/knowledge_db/mini中文说明书底板_20240410180518.pdf', 'format': 'PDF 1.7', 'keywords': '', 'modDate': \"D:20240410180518+10'05'\", 'page': 1, 'producer': '', 'source': 'crag/knowledge_db/mini中文说明书底板_20240410180518.pdf', 'subject': '', 'title': '', 'total_pages': 8, 'trapped': ''}, page_content='WeD™-mini可快速应用于新冠病毒、流感等疾病的居家自检，还能\\n进行HIV的定量分析以及肉源性、转基因等检测，提供及时准确的\\n个人健康和食品安全信息。'),\n",
       " Document(metadata={'author': '', 'creationDate': \"D:20240410180518+10'05'\", 'creator': 'WPS 演示', 'file_path': 'crag/knowledge_db/mini中文说明书底板_20240410180518.pdf', 'format': 'PDF 1.7', 'keywords': '', 'modDate': \"D:20240410180518+10'05'\", 'page': 1, 'producer': '', 'source': 'crag/knowledge_db/mini中文说明书底板_20240410180518.pdf', 'subject': '', 'title': '', 'total_pages': 8, 'trapped': ''}, page_content='产品功能介绍：微检测WeD™-mini是在WeD™-1核酸检测仪的基础\\n上进行精简优化的个人便携型核酸检测设备。它重量仅为61克，保\\n留了两个检测孔，非常适合个人使用。适用于LAMP、RPA、\\nLAMP-CRISPR、RPA-CRISPR、LAMP-PfAgo等恒温检测路线。\\nWeD™-mini可快速应用于新冠病毒、流感等疾病的居家自检，还能')]"
      ]
     },
     "execution_count": 13,
     "metadata": {},
     "output_type": "execute_result"
    }
   ],
   "source": [
    "retriever.get_relevant_documents(\"介绍一下wed_mini\")"
   ]
  },
  {
   "cell_type": "code",
   "execution_count": 35,
   "metadata": {},
   "outputs": [
    {
     "name": "stdout",
     "output_type": "stream",
     "text": [
      "---RETRIEVE---\n",
      "---CHECK DOCUMENT RELEVANCE TO QUESTION---\n",
      "---GRADE: DOCUMENT RELEVANT---\n",
      "---GRADE: DOCUMENT RELEVANT---\n",
      "---GRADE: DOCUMENT RELEVANT---\n",
      "---GRADE: DOCUMENT RELEVANT---\n",
      "---ASSESS GRADED DOCUMENTS---\n",
      "---DECISION: GENERATE---\n",
      "---GENERATE---\n",
      "---RETRIEVE---\n",
      "---CHECK DOCUMENT RELEVANCE TO QUESTION---\n",
      "---GRADE: DOCUMENT RELEVANT---\n",
      "---GRADE: DOCUMENT RELEVANT---\n",
      "---GRADE: DOCUMENT NOT RELEVANT---\n",
      "---GRADE: DOCUMENT NOT RELEVANT---\n",
      "---ASSESS GRADED DOCUMENTS---\n",
      "---DECISION: ALL DOCUMENTS ARE NOT RELEVANT TO QUESTION, TRANSFORM QUERY---\n",
      "---TRANSFORM QUERY---\n",
      "---WEB SEARCH---\n",
      "---GENERATE---\n",
      "---RETRIEVE---\n",
      "---CHECK DOCUMENT RELEVANCE TO QUESTION---\n",
      "---GRADE: DOCUMENT RELEVANT---\n",
      "---GRADE: DOCUMENT RELEVANT---\n",
      "---GRADE: DOCUMENT NOT RELEVANT---\n",
      "---GRADE: DOCUMENT RELEVANT---\n",
      "---ASSESS GRADED DOCUMENTS---\n",
      "---DECISION: ALL DOCUMENTS ARE NOT RELEVANT TO QUESTION, TRANSFORM QUERY---\n",
      "---TRANSFORM QUERY---\n",
      "---WEB SEARCH---\n",
      "---GENERATE---\n",
      "---RETRIEVE---\n",
      "---CHECK DOCUMENT RELEVANCE TO QUESTION---\n",
      "---GRADE: DOCUMENT NOT RELEVANT---\n",
      "---GRADE: DOCUMENT RELEVANT---\n",
      "---GRADE: DOCUMENT NOT RELEVANT---\n",
      "---GRADE: DOCUMENT NOT RELEVANT---\n",
      "---ASSESS GRADED DOCUMENTS---\n",
      "---DECISION: ALL DOCUMENTS ARE NOT RELEVANT TO QUESTION, TRANSFORM QUERY---\n",
      "---TRANSFORM QUERY---\n",
      "---WEB SEARCH---\n",
      "---GENERATE---\n",
      "---RETRIEVE---\n",
      "---CHECK DOCUMENT RELEVANCE TO QUESTION---\n",
      "---GRADE: DOCUMENT RELEVANT---\n",
      "---GRADE: DOCUMENT NOT RELEVANT---\n",
      "---GRADE: DOCUMENT NOT RELEVANT---\n",
      "---GRADE: DOCUMENT NOT RELEVANT---\n",
      "---ASSESS GRADED DOCUMENTS---\n",
      "---DECISION: ALL DOCUMENTS ARE NOT RELEVANT TO QUESTION, TRANSFORM QUERY---\n",
      "---TRANSFORM QUERY---\n",
      "---WEB SEARCH---\n",
      "---GENERATE---\n",
      "---RETRIEVE---\n",
      "---CHECK DOCUMENT RELEVANCE TO QUESTION---\n",
      "---GRADE: DOCUMENT RELEVANT---\n",
      "---GRADE: DOCUMENT NOT RELEVANT---\n",
      "---GRADE: DOCUMENT NOT RELEVANT---\n",
      "---GRADE: DOCUMENT NOT RELEVANT---\n",
      "---ASSESS GRADED DOCUMENTS---\n",
      "---DECISION: ALL DOCUMENTS ARE NOT RELEVANT TO QUESTION, TRANSFORM QUERY---\n",
      "---TRANSFORM QUERY---\n",
      "---WEB SEARCH---\n",
      "---GENERATE---\n",
      "---RETRIEVE---\n",
      "---CHECK DOCUMENT RELEVANCE TO QUESTION---\n",
      "---GRADE: DOCUMENT NOT RELEVANT---\n",
      "---GRADE: DOCUMENT RELEVANT---\n",
      "---GRADE: DOCUMENT NOT RELEVANT---\n",
      "---GRADE: DOCUMENT NOT RELEVANT---\n",
      "---ASSESS GRADED DOCUMENTS---\n",
      "---DECISION: ALL DOCUMENTS ARE NOT RELEVANT TO QUESTION, TRANSFORM QUERY---\n",
      "---TRANSFORM QUERY---\n",
      "---WEB SEARCH---\n",
      "---GENERATE---\n",
      "---RETRIEVE---\n",
      "---CHECK DOCUMENT RELEVANCE TO QUESTION---\n",
      "---GRADE: DOCUMENT NOT RELEVANT---\n",
      "---GRADE: DOCUMENT NOT RELEVANT---\n",
      "---GRADE: DOCUMENT NOT RELEVANT---\n",
      "---GRADE: DOCUMENT NOT RELEVANT---\n",
      "---ASSESS GRADED DOCUMENTS---\n",
      "---DECISION: ALL DOCUMENTS ARE NOT RELEVANT TO QUESTION, TRANSFORM QUERY---\n",
      "---TRANSFORM QUERY---\n",
      "---WEB SEARCH---\n",
      "---GENERATE---\n",
      "---RETRIEVE---\n",
      "---CHECK DOCUMENT RELEVANCE TO QUESTION---\n",
      "---GRADE: DOCUMENT NOT RELEVANT---\n",
      "---GRADE: DOCUMENT NOT RELEVANT---\n",
      "---GRADE: DOCUMENT RELEVANT---\n",
      "---GRADE: DOCUMENT NOT RELEVANT---\n",
      "---ASSESS GRADED DOCUMENTS---\n",
      "---DECISION: ALL DOCUMENTS ARE NOT RELEVANT TO QUESTION, TRANSFORM QUERY---\n",
      "---TRANSFORM QUERY---\n",
      "---WEB SEARCH---\n",
      "---GENERATE---\n"
     ]
    }
   ],
   "source": [
    "answers = []\n",
    "contexts = []\n",
    "for query in questions:\n",
    "    input = {\"question\": query}\n",
    "    answers.append(app.invoke(input)['generation'])\n",
    "    contexts.append([docs.page_content for docs in retriever.get_relevant_documents(query)])"
   ]
  },
  {
   "cell_type": "code",
   "execution_count": 51,
   "metadata": {},
   "outputs": [
    {
     "data": {
      "text/plain": [
       "['WeD™-mini个人掌上核酸荧光检测仪的主要功能包括：支持多种恒温检测路线，如LAMP、RPA、LAMP-CRISPR等，适用于新冠病毒、流感等疾病的居家自检，便于个人快速检测。该设备轻便小巧，仅重61克，配备两个检测孔，适合个人使用。其便携设计允许用户轻松携带，且可通过手机充电器或充电宝供电，实现随时随地的核酸检测需求。',\n",
       " '要在手机上使用WeD-mini进行荧光实时定量检测并实现结果的自动分析，您需要遵循以下步骤：\\n1. 首先，给WeD-mini设备接通电源（使用Type C接口）。\\n2. 接着，打开手机上的专用APP或微信小程序，搜索并连接WeD-mini仪器。\\n3. 通过APP设定加热程序和结果判定阈值，保存设置后，即可开始检测并自动分析结果。',\n",
       " \"WeD-mini's portable design features include being small and lightweight, easily fitting into a backpack or pocket for on-the-go use. It weighs only 61 grams, has two detection holes, and supports various power sources like mobile chargers or power banks, ensuring convenience and accessibility for personal nucleic acid testing anywhere.\",\n",
       " 'When using the WeD-mini device, remember these key points:\\n1. Plug in the power using a Type C cable.\\n2. Launch the mobile app (or WeChat mini program) to search for and connect to the device.\\n3. Set heating programs and result threshold values via the app and save them.',\n",
       " '要使用手机应用程序调整WeD-mini的运行设置，请按照以下步骤操作：\\n1. 首先，给WeD-mini接通电源（使用Type C接口）。\\n2. 打开手机上的APP（或者微信小程序），搜索并连接到WeD-mini设备。\\n3. 之后，在APP中可以设置加热程序和结果判读阈值，并保存这些设置。',\n",
       " '如果手机无法连接蓝牙，尝试以下方法：确保手机APP在使用时蓝牙已打开并允许位置信息共享；通过APP直接连接蓝牙，而非手机设置；如果问题依旧，检查蓝牙设备是否处于配对模式并重启手机和蓝牙设备尝试重新连接。',\n",
       " '要解决小程序或微信在手机上无法连接蓝牙的问题，请确保以下几点：\\n1. 打开手机蓝牙和位置信息共享。\\n2. 在小程序内尝试连接蓝牙，而非通过手机设置直接连接。\\n3. 在微信设置中允许小程序访问位置信息权限。\\n4. 确保小程序或微信版本是最新的，并尝试更新应用。\\n5. 如果问题依然存在，检查蓝牙设备是否正常工作且未被其他应用占用。',\n",
       " '要解决设备无法启动和连接蓝牙的问题，首先尝试打开设置，进入“设备”>“蓝牙和其他设备”，关闭蓝牙等待几秒后再重新开启。如果问题依旧，可在同一路径下找到遇到问题的蓝牙设备，选择“删除设备”并确认，之后重新添加该设备。',\n",
       " '您可以直接联系产品生产公司，例如杭州逸检科技有限公司，他们的联系方式如下：\\n- 电话：0571-88121369\\n- 邮箱：147958789@qq.com\\n- 网址：www.ezdxtech.com\\n\\n您也可以访问公司官网或查询相关商业平台获取其他公司的联系方式。']"
      ]
     },
     "execution_count": 51,
     "metadata": {},
     "output_type": "execute_result"
    }
   ],
   "source": [
    "answers"
   ]
  },
  {
   "cell_type": "code",
   "execution_count": 50,
   "metadata": {},
   "outputs": [
    {
     "data": {
      "text/plain": [
       "[['产品功能介绍：微检测WeD™-mini是在WeD™-1核酸检测仪的基础\\n上进行精简优化的个人便携型核酸检测设备。它重量仅为61克，保\\n留了两个检测孔，非常适合个人使用。适用于LAMP、RPA、\\nLAMP-CRISPR、RPA-CRISPR、LAMP-PfAgo等恒温检测路线。\\nWeD™-mini可快速应用于新冠病毒、流感等疾病的居家自检，还能',\n",
       "  '全与健康。微检测WeD-mini，为你的健康保驾护航，随时掌握核\\n酸信息，让核酸检测随处可做。\\n包装清单：微检测®WeD™-mini个人掌上核酸检测仪、电源线。',\n",
       "  '杭州逸检科技有限公司         电话: 0571-88121369 \\n邮箱: 147958789@qq.com       网址: www.ezdxtech.com\\n【产品介绍】\\n产品名称：微检测WeD™-mini个人掌上核酸荧光检测仪\\n产品型号：WeD™-mini\\n产品功能介绍：微检测WeD™-mini是在WeD™-1核酸检测仪的基础',\n",
       "  '需昂贵的仪器和繁琐的操作。此外，WeD-mini支持使用手机充电器\\n或充电宝供电，让你无忧电量不足，随时随地进行核酸检测。\\n便携设计：WeD-mini小巧轻便，可轻松放入背包或口袋，随时携\\n带。无论何时何地，你都能方便进行个人核酸检测，确保自身安\\n全与健康。微检测WeD-mini，为你的健康保驾护航，随时掌握核\\n酸信息，让核酸检测随处可做。'],\n",
       " ['杭州逸检科技有限公司         电话: 0571-88121369 \\n邮箱: 147958789@qq.com       网址: www.ezdxtech.com\\n全新功能：WeD-mini实现了手机端荧光实时定量和结果自动判读。\\n通过与手机连接，你可以方便地查看检测结果并进行定量分析，无\\n需昂贵的仪器和繁琐的操作。此外，WeD-mini支持使用手机充电器',\n",
       "  '杭州逸检科技有限公司         电话: 0571-88121369 \\n邮箱: 147958789@qq.com       网址: www.ezdxtech.com\\n通过APP修改WeD-mini运行参数：\\n1.插上电源（Type C）；\\n2.打开手机APP（或微信小程序）搜索仪器并链接；\\n通过手机APP（或微信小程序）设置加热程序和结果判读阈值，并\\n保存。',\n",
       "  'WeD™-mini可快速应用于新冠病毒、流感等疾病的居家自检，还能\\n进行HIV的定量分析以及肉源性、转基因等检测，提供及时准确的\\n个人健康和食品安全信息。',\n",
       "  '需昂贵的仪器和繁琐的操作。此外，WeD-mini支持使用手机充电器\\n或充电宝供电，让你无忧电量不足，随时随地进行核酸检测。\\n便携设计：WeD-mini小巧轻便，可轻松放入背包或口袋，随时携\\n带。无论何时何地，你都能方便进行个人核酸检测，确保自身安\\n全与健康。微检测WeD-mini，为你的健康保驾护航，随时掌握核\\n酸信息，让核酸检测随处可做。'],\n",
       " ['需昂贵的仪器和繁琐的操作。此外，WeD-mini支持使用手机充电器\\n或充电宝供电，让你无忧电量不足，随时随地进行核酸检测。\\n便携设计：WeD-mini小巧轻便，可轻松放入背包或口袋，随时携\\n带。无论何时何地，你都能方便进行个人核酸检测，确保自身安\\n全与健康。微检测WeD-mini，为你的健康保驾护航，随时掌握核\\n酸信息，让核酸检测随处可做。',\n",
       "  '产品功能介绍：微检测WeD™-mini是在WeD™-1核酸检测仪的基础\\n上进行精简优化的个人便携型核酸检测设备。它重量仅为61克，保\\n留了两个检测孔，非常适合个人使用。适用于LAMP、RPA、\\nLAMP-CRISPR、RPA-CRISPR、LAMP-PfAgo等恒温检测路线。\\nWeD™-mini可快速应用于新冠病毒、流感等疾病的居家自检，还能',\n",
       "  'WeD™-mini可快速应用于新冠病毒、流感等疾病的居家自检，还能\\n进行HIV的定量分析以及肉源性、转基因等检测，提供及时准确的\\n个人健康和食品安全信息。',\n",
       "  '全与健康。微检测WeD-mini，为你的健康保驾护航，随时掌握核\\n酸信息，让核酸检测随处可做。\\n包装清单：微检测®WeD™-mini个人掌上核酸检测仪、电源线。'],\n",
       " ['需昂贵的仪器和繁琐的操作。此外，WeD-mini支持使用手机充电器\\n或充电宝供电，让你无忧电量不足，随时随地进行核酸检测。\\n便携设计：WeD-mini小巧轻便，可轻松放入背包或口袋，随时携\\n带。无论何时何地，你都能方便进行个人核酸检测，确保自身安\\n全与健康。微检测WeD-mini，为你的健康保驾护航，随时掌握核\\n酸信息，让核酸检测随处可做。',\n",
       "  '杭州逸检科技有限公司         电话: 0571-88121369 \\n邮箱: 147958789@qq.com       网址: www.ezdxtech.com\\n通过APP修改WeD-mini运行参数：\\n1.插上电源（Type C）；\\n2.打开手机APP（或微信小程序）搜索仪器并链接；\\n通过手机APP（或微信小程序）设置加热程序和结果判读阈值，并\\n保存。',\n",
       "  'WeD™-mini可快速应用于新冠病毒、流感等疾病的居家自检，还能\\n进行HIV的定量分析以及肉源性、转基因等检测，提供及时准确的\\n个人健康和食品安全信息。',\n",
       "  '杭州逸检科技有限公司         电话: 0571-88121369 \\n邮箱: 147958789@qq.com       网址: www.ezdxtech.com\\n全新功能：WeD-mini实现了手机端荧光实时定量和结果自动判读。\\n通过与手机连接，你可以方便地查看检测结果并进行定量分析，无\\n需昂贵的仪器和繁琐的操作。此外，WeD-mini支持使用手机充电器'],\n",
       " ['杭州逸检科技有限公司         电话: 0571-88121369 \\n邮箱: 147958789@qq.com       网址: www.ezdxtech.com\\n通过APP修改WeD-mini运行参数：\\n1.插上电源（Type C）；\\n2.打开手机APP（或微信小程序）搜索仪器并链接；\\n通过手机APP（或微信小程序）设置加热程序和结果判读阈值，并\\n保存。',\n",
       "  '杭州逸检科技有限公司         电话: 0571-88121369 \\n邮箱: 147958789@qq.com       网址: www.ezdxtech.com\\n全新功能：WeD-mini实现了手机端荧光实时定量和结果自动判读。\\n通过与手机连接，你可以方便地查看检测结果并进行定量分析，无\\n需昂贵的仪器和繁琐的操作。此外，WeD-mini支持使用手机充电器',\n",
       "  '需昂贵的仪器和繁琐的操作。此外，WeD-mini支持使用手机充电器\\n或充电宝供电，让你无忧电量不足，随时随地进行核酸检测。\\n便携设计：WeD-mini小巧轻便，可轻松放入背包或口袋，随时携\\n带。无论何时何地，你都能方便进行个人核酸检测，确保自身安\\n全与健康。微检测WeD-mini，为你的健康保驾护航，随时掌握核\\n酸信息，让核酸检测随处可做。',\n",
       "  'WeD™-mini可快速应用于新冠病毒、流感等疾病的居家自检，还能\\n进行HIV的定量分析以及肉源性、转基因等检测，提供及时准确的\\n个人健康和食品安全信息。'],\n",
       " ['2.手机APP（或微信小程序）在使用过程中要保持蓝牙打开和位置信息共享。\\n应通过APP（或者微信小程序）连接蓝牙，避免通过手机“设置”直接连接\\n蓝牙。\\n3.若使用冻干试剂，需确保试剂已充分溶解并混匀\\n4.本产品可使用5-24V电源，推建使用手机快充充电电源。\\n5.本产品散热为自然散热，降温速度较慢，如果使用多段恒温反应，建议设\\n计实验时，先执行温度较低的反应阶段，后执行温度较高的反应阶段。',\n",
       "  '时观察加热状态； \\n3. 加热程序执行完毕：听到“嘀”声长鸣5 秒，B 指示灯亮。 \\n \\n \\n  默认参数--上次实验设置的加热参数会默认保存，方便之后的重复性实验。 \\n \\n \\n通过APP 修改加热参数： \\n1. 打开电源总开关，听到蜂鸣器提示音“嘀嘀”声，A 指示灯亮； \\n2. 打开手机app（或微信小程序）搜索仪器并链接，蜂鸣器发出“嘀”提示音，\\n表示链接成功；',\n",
       "  '杭州逸检科技有限公司         电话: 0571-88121369 \\n邮箱: 147958789@qq.com       网址: www.ezdxtech.com\\n通过APP修改WeD-mini运行参数：\\n1.插上电源（Type C）；\\n2.打开手机APP（或微信小程序）搜索仪器并链接；\\n通过手机APP（或微信小程序）设置加热程序和结果判读阈值，并\\n保存。',\n",
       "  '杭州逸检科技有限公司      电话: 0571-88121369 \\n邮箱: 147958789@qq.com， 网址: www.ezdxtech.com \\n \\n \\n \\n \\n手机App、微信小程序、操作视频教程二维码： \\n \\n    \\n     \\n      \\n \\n 安卓APP 下载         苹果App             微信小程序           操作视频教程'],\n",
       " ['杭州逸检科技有限公司      电话: 0571-88121369 \\n邮箱: 147958789@qq.com， 网址: www.ezdxtech.com \\n \\n \\n \\n \\n手机App、微信小程序、操作视频教程二维码： \\n \\n    \\n     \\n      \\n \\n 安卓APP 下载         苹果App             微信小程序           操作视频教程',\n",
       "  '2.手机APP（或微信小程序）在使用过程中要保持蓝牙打开和位置信息共享。\\n应通过APP（或者微信小程序）连接蓝牙，避免通过手机“设置”直接连接\\n蓝牙。\\n3.若使用冻干试剂，需确保试剂已充分溶解并混匀\\n4.本产品可使用5-24V电源，推建使用手机快充充电电源。\\n5.本产品散热为自然散热，降温速度较慢，如果使用多段恒温反应，建议设\\n计实验时，先执行温度较低的反应阶段，后执行温度较高的反应阶段。',\n",
       "  '通过手机APP（或微信小程序）设置加热程序和结果判读阈值，并\\n保存。\\n手机App、微信小程序、操作视频教程二维码：\\n安卓APP下载密码\\u20001234\\n安卓 APP\\n苹果 APP\\n微信小程序\\n视频操作教程',\n",
       "  '时观察加热状态； \\n3. 加热程序执行完毕：听到“嘀”声长鸣5 秒，B 指示灯亮。 \\n \\n \\n  默认参数--上次实验设置的加热参数会默认保存，方便之后的重复性实验。 \\n \\n \\n通过APP 修改加热参数： \\n1. 打开电源总开关，听到蜂鸣器提示音“嘀嘀”声，A 指示灯亮； \\n2. 打开手机app（或微信小程序）搜索仪器并链接，蜂鸣器发出“嘀”提示音，\\n表示链接成功；'],\n",
       " ['1：电源线或者电源插头损坏时； \\n2：本产品受潮或淋到雨时； \\n3：本产品发生冒烟、火花时； \\n4：本产品外壳损坏时；',\n",
       "  '2.手机APP（或微信小程序）在使用过程中要保持蓝牙打开和位置信息共享。\\n应通过APP（或者微信小程序）连接蓝牙，避免通过手机“设置”直接连接\\n蓝牙。\\n3.若使用冻干试剂，需确保试剂已充分溶解并混匀\\n4.本产品可使用5-24V电源，推建使用手机快充充电电源。\\n5.本产品散热为自然散热，降温速度较慢，如果使用多段恒温反应，建议设\\n计实验时，先执行温度较低的反应阶段，后执行温度较高的反应阶段。',\n",
       "  '时观察加热状态； \\n3. 加热程序执行完毕：听到“嘀”声长鸣5 秒，B 指示灯亮。 \\n \\n \\n  默认参数--上次实验设置的加热参数会默认保存，方便之后的重复性实验。 \\n \\n \\n通过APP 修改加热参数： \\n1. 打开电源总开关，听到蜂鸣器提示音“嘀嘀”声，A 指示灯亮； \\n2. 打开手机app（或微信小程序）搜索仪器并链接，蜂鸣器发出“嘀”提示音，\\n表示链接成功；',\n",
       "  '2. 打开手机app（或微信小程序）搜索仪器并链接，蜂鸣器发出“嘀”提示音，\\n表示链接成功； \\n3. 通过手机App（或微信小程序）设置加热程序，上传仪器，听到“嘀”声，\\n表示上传成功； \\n4. 按加热开关，听到“嘀嘀”声，B 指示灯亮，即开始执行加热程序，通过手\\n机可实时观察加热状态； \\n5. 加热程序执行完毕：听到“嘀”声长鸣5 秒，B 指示灯亮。'],\n",
       " ['杭州逸检科技有限公司         电话: 0571-88121369 \\n邮箱: 147958789@qq.com       网址: www.ezdxtech.com\\n全新功能：WeD-mini实现了手机端荧光实时定量和结果自动判读。\\n通过与手机连接，你可以方便地查看检测结果并进行定量分析，无\\n需昂贵的仪器和繁琐的操作。此外，WeD-mini支持使用手机充电器',\n",
       "  '杭州逸检科技有限公司         电话: 0571-88121369 \\n邮箱: 147958789@qq.com       网址: www.ezdxtech.com\\n【注意事项】\\n1.本产品只适配常规的200µL PCR管，不适配100µL PCR管。\\n2.手机APP（或微信小程序）在使用过程中要保持蓝牙打开和位置信息共享。',\n",
       "  '杭州逸检科技有限公司         电话: 0571-88121369 \\n邮箱: 147958789@qq.com       网址: www.ezdxtech.com\\n逸检科技公众号\\n逸检科技视频号',\n",
       "  '计实验时，先执行温度较低的反应阶段，后执行温度较高的反应阶段。\\n6.为了避免烫伤，请勿在仪器运行时触摸加热片。\\n7.请勿将本产品长期工作或放置在潮湿环境中。\\n8.本产品发生损坏后请联系制造商或其他服务代理商等有类似资格的人员维\\n修，以免发生危险。']]"
      ]
     },
     "execution_count": 50,
     "metadata": {},
     "output_type": "execute_result"
    }
   ],
   "source": [
    "contexts"
   ]
  },
  {
   "cell_type": "code",
   "execution_count": 38,
   "metadata": {},
   "outputs": [],
   "source": [
    "from datasets import Dataset\n",
    "data = {\n",
    "    \"question\":questions,\n",
    "    \"answer\":answers,\n",
    "    \"contexts\":contexts,\n",
    "    \"ground_truth\":ground_truths\n",
    "}\n",
    "datasets = Dataset.from_dict(data)"
   ]
  },
  {
   "cell_type": "code",
   "execution_count": 39,
   "metadata": {},
   "outputs": [
    {
     "data": {
      "text/plain": [
       "Dataset({\n",
       "    features: ['question', 'answer', 'contexts', 'ground_truth'],\n",
       "    num_rows: 9\n",
       "})"
      ]
     },
     "execution_count": 39,
     "metadata": {},
     "output_type": "execute_result"
    }
   ],
   "source": [
    "datasets"
   ]
  },
  {
   "cell_type": "code",
   "execution_count": 40,
   "metadata": {},
   "outputs": [],
   "source": [
    "from ragas.llms import LangchainLLMWrapper"
   ]
  },
  {
   "cell_type": "code",
   "execution_count": 41,
   "metadata": {},
   "outputs": [],
   "source": [
    "from ragas import evaluate"
   ]
  },
  {
   "cell_type": "code",
   "execution_count": 42,
   "metadata": {},
   "outputs": [],
   "source": [
    "\n",
    "from ragas.metrics import (\n",
    "    faithfulness,\n",
    "    answer_relevancy,\n",
    "    context_recall,\n",
    "    context_precision,\n",
    ")\n"
   ]
  },
  {
   "cell_type": "code",
   "execution_count": 43,
   "metadata": {},
   "outputs": [],
   "source": [
    "from llm_chian.model_to_llm import get_llm\n",
    "llm = get_llm(model = \"qwen-max\", temperature = 0, api_key = 'sk-83f939a7ee424d588c176662a9636061')"
   ]
  },
  {
   "cell_type": "code",
   "execution_count": 44,
   "metadata": {},
   "outputs": [],
   "source": [
    "from database.embedding import get_embedding\n",
    "embeddings = get_embedding('bge')"
   ]
  },
  {
   "cell_type": "code",
   "execution_count": 47,
   "metadata": {},
   "outputs": [],
   "source": [
    "from ragas.run_config import RunConfig"
   ]
  },
  {
   "cell_type": "code",
   "execution_count": 60,
   "metadata": {},
   "outputs": [
    {
     "data": {
      "application/vnd.jupyter.widget-view+json": {
       "model_id": "f030e114465545ef9d010c64c7cb88e8",
       "version_major": 2,
       "version_minor": 0
      },
      "text/plain": [
       "Evaluating:   0%|          | 0/36 [00:00<?, ?it/s]"
      ]
     },
     "metadata": {},
     "output_type": "display_data"
    }
   ],
   "source": [
    "evaluate_result = evaluate(\n",
    "    datasets,\n",
    "    metrics=[\n",
    "        faithfulness,\n",
    "    answer_relevancy,\n",
    "    context_recall,\n",
    "    context_precision,\n",
    "    ],\n",
    "    llm = llm,\n",
    "    embeddings = embeddings,\n",
    "    # run_config=RunConfig(max_workers=16), # increasing max_workers from default 16\n",
    ")"
   ]
  },
  {
   "cell_type": "code",
   "execution_count": 61,
   "metadata": {},
   "outputs": [
    {
     "data": {
      "text/html": [
       "<div>\n",
       "<style scoped>\n",
       "    .dataframe tbody tr th:only-of-type {\n",
       "        vertical-align: middle;\n",
       "    }\n",
       "\n",
       "    .dataframe tbody tr th {\n",
       "        vertical-align: top;\n",
       "    }\n",
       "\n",
       "    .dataframe thead th {\n",
       "        text-align: right;\n",
       "    }\n",
       "</style>\n",
       "<table border=\"1\" class=\"dataframe\">\n",
       "  <thead>\n",
       "    <tr style=\"text-align: right;\">\n",
       "      <th></th>\n",
       "      <th>question</th>\n",
       "      <th>answer</th>\n",
       "      <th>contexts</th>\n",
       "      <th>ground_truth</th>\n",
       "      <th>faithfulness</th>\n",
       "      <th>answer_relevancy</th>\n",
       "      <th>context_recall</th>\n",
       "      <th>context_precision</th>\n",
       "    </tr>\n",
       "  </thead>\n",
       "  <tbody>\n",
       "    <tr>\n",
       "      <th>0</th>\n",
       "      <td>WeD™-mini个人掌上核酸荧光检测仪的主要功能有哪些？ /介绍一下WeD™-mini</td>\n",
       "      <td>WeD™-mini个人掌上核酸荧光检测仪的主要功能包括：支持多种恒温检测路线，如LAMP、R...</td>\n",
       "      <td>[产品功能介绍：微检测WeD™-mini是在WeD™-1核酸检测仪的基础\\n上进行精简优化的...</td>\n",
       "      <td>WeD™-mini是一款个人便携型核酸检测设备，重量仅为61克，保留了两个检测孔，适合个人使...</td>\n",
       "      <td>1.000000</td>\n",
       "      <td>0.888308</td>\n",
       "      <td>0.666667</td>\n",
       "      <td>1.000000</td>\n",
       "    </tr>\n",
       "    <tr>\n",
       "      <th>1</th>\n",
       "      <td>WeD™-mini如何实现手机端荧光实时定量和结果自动判读？</td>\n",
       "      <td>要在手机上使用WeD-mini进行荧光实时定量检测并实现结果的自动分析，您需要遵循以下步骤：...</td>\n",
       "      <td>[杭州逸检科技有限公司         电话: 0571-88121369 \\n邮箱: 14...</td>\n",
       "      <td>WeD™-mini通过与手机连接，用户可以方便地在手机端查看检测结果并进行定量分析。操作流程...</td>\n",
       "      <td>0.600000</td>\n",
       "      <td>0.897959</td>\n",
       "      <td>0.666667</td>\n",
       "      <td>1.000000</td>\n",
       "    </tr>\n",
       "    <tr>\n",
       "      <th>2</th>\n",
       "      <td>WeD™-mini的便携设计有哪些特点？</td>\n",
       "      <td>WeD-mini's portable design features include be...</td>\n",
       "      <td>[需昂贵的仪器和繁琐的操作。此外，WeD-mini支持使用手机充电器\\n或充电宝供电，让你无...</td>\n",
       "      <td>WeD™-mini小巧轻便，重量仅为61克，可以轻松放入背包或口袋，方便用户随时携带。无论何...</td>\n",
       "      <td>1.000000</td>\n",
       "      <td>0.621961</td>\n",
       "      <td>1.000000</td>\n",
       "      <td>1.000000</td>\n",
       "    </tr>\n",
       "    <tr>\n",
       "      <th>3</th>\n",
       "      <td>使用WeD™-mini时有哪些注意事项？</td>\n",
       "      <td>When using the WeD-mini device, remember these...</td>\n",
       "      <td>[需昂贵的仪器和繁琐的操作。此外，WeD-mini支持使用手机充电器\\n或充电宝供电，让你无...</td>\n",
       "      <td>使用WeD™-mini时应注意以下事项：1、 适配200µL PCR管，不适配100µL P...</td>\n",
       "      <td>1.000000</td>\n",
       "      <td>0.552915</td>\n",
       "      <td>0.500000</td>\n",
       "      <td>0.000000</td>\n",
       "    </tr>\n",
       "    <tr>\n",
       "      <th>4</th>\n",
       "      <td>如何通过手机APP修改WeD-mini的运行参数？</td>\n",
       "      <td>要使用手机应用程序调整WeD-mini的运行设置，请按照以下步骤操作：\\n1. 首先，给We...</td>\n",
       "      <td>[杭州逸检科技有限公司         电话: 0571-88121369 \\n邮箱: 14...</td>\n",
       "      <td>通过以下步骤修改WeD-mini的运行参数：1、打开手机APP（或微信小程序）搜索仪器并链接...</td>\n",
       "      <td>0.857143</td>\n",
       "      <td>0.855656</td>\n",
       "      <td>1.000000</td>\n",
       "      <td>1.000000</td>\n",
       "    </tr>\n",
       "    <tr>\n",
       "      <th>5</th>\n",
       "      <td>app/手机无法连接蓝牙</td>\n",
       "      <td>如果手机无法连接蓝牙，尝试以下方法：确保手机APP在使用时蓝牙已打开并允许位置信息共享；通过...</td>\n",
       "      <td>[2.手机APP（或微信小程序）在使用过程中要保持蓝牙打开和位置信息共享。\\n应通过APP（...</td>\n",
       "      <td>确保手机蓝牙已开启，以及设备已经接通电源，检查WeD™-mini是否已开机并处于可连接状态。...</td>\n",
       "      <td>0.400000</td>\n",
       "      <td>0.664896</td>\n",
       "      <td>1.000000</td>\n",
       "      <td>1.000000</td>\n",
       "    </tr>\n",
       "    <tr>\n",
       "      <th>6</th>\n",
       "      <td>小程序/微信/手机无法连接蓝牙</td>\n",
       "      <td>要解决小程序或微信在手机上无法连接蓝牙的问题，请确保以下几点：\\n1. 打开手机蓝牙和位置信...</td>\n",
       "      <td>[杭州逸检科技有限公司      电话: 0571-88121369 \\n邮箱: 14795...</td>\n",
       "      <td>确保手机蓝牙已开启，以及设备已经接通电源，检查WeD™-mini是否已开机并处于可连接状态。...</td>\n",
       "      <td>0.200000</td>\n",
       "      <td>0.865776</td>\n",
       "      <td>1.000000</td>\n",
       "      <td>0.916667</td>\n",
       "    </tr>\n",
       "    <tr>\n",
       "      <th>7</th>\n",
       "      <td>设备无法开机、连接蓝牙</td>\n",
       "      <td>要解决设备无法启动和连接蓝牙的问题，首先尝试打开设置，进入“设备”&gt;“蓝牙和其他设备”，关闭...</td>\n",
       "      <td>[1：电源线或者电源插头损坏时； \\n2：本产品受潮或淋到雨时； \\n3：本产品发生冒烟、火...</td>\n",
       "      <td>检查电源线是否连接正确，确保使用的是5-24V的电源，推荐使用手机快充充电电源。</td>\n",
       "      <td>0.000000</td>\n",
       "      <td>0.733693</td>\n",
       "      <td>1.000000</td>\n",
       "      <td>0.500000</td>\n",
       "    </tr>\n",
       "    <tr>\n",
       "      <th>8</th>\n",
       "      <td>如何联系该产品的生产公司？</td>\n",
       "      <td>您可以直接联系产品生产公司，例如杭州逸检科技有限公司，他们的联系方式如下：\\n- 电话：05...</td>\n",
       "      <td>[杭州逸检科技有限公司         电话: 0571-88121369 \\n邮箱: 14...</td>\n",
       "      <td>杭州逸检科技有限公司联系方式： 电话：0571-88121369。邮箱：147958789@...</td>\n",
       "      <td>0.714286</td>\n",
       "      <td>0.527239</td>\n",
       "      <td>1.000000</td>\n",
       "      <td>1.000000</td>\n",
       "    </tr>\n",
       "  </tbody>\n",
       "</table>\n",
       "</div>"
      ],
      "text/plain": [
       "                                       question  \\\n",
       "0  WeD™-mini个人掌上核酸荧光检测仪的主要功能有哪些？ /介绍一下WeD™-mini   \n",
       "1                WeD™-mini如何实现手机端荧光实时定量和结果自动判读？   \n",
       "2                          WeD™-mini的便携设计有哪些特点？   \n",
       "3                         使用WeD™-mini时有哪些注意事项？    \n",
       "4                    如何通过手机APP修改WeD-mini的运行参数？    \n",
       "5                                  app/手机无法连接蓝牙   \n",
       "6                               小程序/微信/手机无法连接蓝牙   \n",
       "7                                   设备无法开机、连接蓝牙   \n",
       "8                                 如何联系该产品的生产公司？   \n",
       "\n",
       "                                              answer  \\\n",
       "0  WeD™-mini个人掌上核酸荧光检测仪的主要功能包括：支持多种恒温检测路线，如LAMP、R...   \n",
       "1  要在手机上使用WeD-mini进行荧光实时定量检测并实现结果的自动分析，您需要遵循以下步骤：...   \n",
       "2  WeD-mini's portable design features include be...   \n",
       "3  When using the WeD-mini device, remember these...   \n",
       "4  要使用手机应用程序调整WeD-mini的运行设置，请按照以下步骤操作：\\n1. 首先，给We...   \n",
       "5  如果手机无法连接蓝牙，尝试以下方法：确保手机APP在使用时蓝牙已打开并允许位置信息共享；通过...   \n",
       "6  要解决小程序或微信在手机上无法连接蓝牙的问题，请确保以下几点：\\n1. 打开手机蓝牙和位置信...   \n",
       "7  要解决设备无法启动和连接蓝牙的问题，首先尝试打开设置，进入“设备”>“蓝牙和其他设备”，关闭...   \n",
       "8  您可以直接联系产品生产公司，例如杭州逸检科技有限公司，他们的联系方式如下：\\n- 电话：05...   \n",
       "\n",
       "                                            contexts  \\\n",
       "0  [产品功能介绍：微检测WeD™-mini是在WeD™-1核酸检测仪的基础\\n上进行精简优化的...   \n",
       "1  [杭州逸检科技有限公司         电话: 0571-88121369 \\n邮箱: 14...   \n",
       "2  [需昂贵的仪器和繁琐的操作。此外，WeD-mini支持使用手机充电器\\n或充电宝供电，让你无...   \n",
       "3  [需昂贵的仪器和繁琐的操作。此外，WeD-mini支持使用手机充电器\\n或充电宝供电，让你无...   \n",
       "4  [杭州逸检科技有限公司         电话: 0571-88121369 \\n邮箱: 14...   \n",
       "5  [2.手机APP（或微信小程序）在使用过程中要保持蓝牙打开和位置信息共享。\\n应通过APP（...   \n",
       "6  [杭州逸检科技有限公司      电话: 0571-88121369 \\n邮箱: 14795...   \n",
       "7  [1：电源线或者电源插头损坏时； \\n2：本产品受潮或淋到雨时； \\n3：本产品发生冒烟、火...   \n",
       "8  [杭州逸检科技有限公司         电话: 0571-88121369 \\n邮箱: 14...   \n",
       "\n",
       "                                        ground_truth  faithfulness  \\\n",
       "0  WeD™-mini是一款个人便携型核酸检测设备，重量仅为61克，保留了两个检测孔，适合个人使...      1.000000   \n",
       "1  WeD™-mini通过与手机连接，用户可以方便地在手机端查看检测结果并进行定量分析。操作流程...      0.600000   \n",
       "2  WeD™-mini小巧轻便，重量仅为61克，可以轻松放入背包或口袋，方便用户随时携带。无论何...      1.000000   \n",
       "3  使用WeD™-mini时应注意以下事项：1、 适配200µL PCR管，不适配100µL P...      1.000000   \n",
       "4  通过以下步骤修改WeD-mini的运行参数：1、打开手机APP（或微信小程序）搜索仪器并链接...      0.857143   \n",
       "5  确保手机蓝牙已开启，以及设备已经接通电源，检查WeD™-mini是否已开机并处于可连接状态。...      0.400000   \n",
       "6  确保手机蓝牙已开启，以及设备已经接通电源，检查WeD™-mini是否已开机并处于可连接状态。...      0.200000   \n",
       "7           检查电源线是否连接正确，确保使用的是5-24V的电源，推荐使用手机快充充电电源。      0.000000   \n",
       "8  杭州逸检科技有限公司联系方式： 电话：0571-88121369。邮箱：147958789@...      0.714286   \n",
       "\n",
       "   answer_relevancy  context_recall  context_precision  \n",
       "0          0.888308        0.666667           1.000000  \n",
       "1          0.897959        0.666667           1.000000  \n",
       "2          0.621961        1.000000           1.000000  \n",
       "3          0.552915        0.500000           0.000000  \n",
       "4          0.855656        1.000000           1.000000  \n",
       "5          0.664896        1.000000           1.000000  \n",
       "6          0.865776        1.000000           0.916667  \n",
       "7          0.733693        1.000000           0.500000  \n",
       "8          0.527239        1.000000           1.000000  "
      ]
     },
     "execution_count": 61,
     "metadata": {},
     "output_type": "execute_result"
    }
   ],
   "source": [
    "df_evaluate_result = evaluate_result.to_pandas()\n",
    "df_evaluate_result"
   ]
  },
  {
   "cell_type": "code",
   "execution_count": 66,
   "metadata": {},
   "outputs": [
    {
     "data": {
      "text/plain": [
       "0.6412698412698412"
      ]
     },
     "execution_count": 66,
     "metadata": {},
     "output_type": "execute_result"
    }
   ],
   "source": [
    "df_evaluate_result['faithfulness'].mean()"
   ]
  }
 ],
 "metadata": {
  "kernelspec": {
   "display_name": "RAG",
   "language": "python",
   "name": "python3"
  },
  "language_info": {
   "codemirror_mode": {
    "name": "ipython",
    "version": 3
   },
   "file_extension": ".py",
   "mimetype": "text/x-python",
   "name": "python",
   "nbconvert_exporter": "python",
   "pygments_lexer": "ipython3",
   "version": "3.10.14"
  }
 },
 "nbformat": 4,
 "nbformat_minor": 2
}
