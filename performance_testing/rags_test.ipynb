{
 "cells": [
  {
   "cell_type": "code",
   "execution_count": 1,
   "metadata": {},
   "outputs": [],
   "source": [
    "import os\n",
    "import sys\n",
    "sys.path.append(os.path.join('../'))\n",
    "sys.path.append(os.path.join('./'))"
   ]
  },
  {
   "cell_type": "code",
   "execution_count": 2,
   "metadata": {},
   "outputs": [],
   "source": [
    "questions = ['介绍一下wed-mini']\n",
    "\n",
    "\n",
    "ground_truths = ['wed-mini是一款便携型核酸检测设备， 可快速应用于新冠病毒，流感等疾病的居家自检，还能进行HIV的定量分析以及肉源性、转基因等检测、提供及时准确的个人健康和食品安全信息']"
   ]
  },
  {
   "cell_type": "code",
   "execution_count": 3,
   "metadata": {},
   "outputs": [
    {
     "name": "stderr",
     "output_type": "stream",
     "text": [
      "/home/ezdx/anaconda3/envs/RAG/lib/python3.10/site-packages/sentence_transformers/cross_encoder/CrossEncoder.py:11: TqdmExperimentalWarning: Using `tqdm.autonotebook.tqdm` in notebook mode. Use `tqdm.tqdm` instead to force console mode (e.g. in jupyter console)\n",
      "  from tqdm.autonotebook import tqdm, trange\n"
     ]
    }
   ],
   "source": [
    "from graph.crag import GraphPoint\n",
    "graph = GraphPoint('')\n",
    "\n",
    "app = graph.bulid_graph()\n",
    "\n"
   ]
  },
  {
   "cell_type": "code",
   "execution_count": 4,
   "metadata": {},
   "outputs": [],
   "source": [
    "inputs = {\"question\": \"介绍一下wed_mini\"}"
   ]
  },
  {
   "cell_type": "code",
   "execution_count": 5,
   "metadata": {},
   "outputs": [
    {
     "name": "stdout",
     "output_type": "stream",
     "text": [
      "---RETRIEVE---\n"
     ]
    },
    {
     "name": "stderr",
     "output_type": "stream",
     "text": [
      "/home/ezdx/anaconda3/envs/RAG/lib/python3.10/site-packages/langchain_core/_api/deprecation.py:139: LangChainDeprecationWarning: The method `BaseRetriever.get_relevant_documents` was deprecated in langchain-core 0.1.46 and will be removed in 0.3.0. Use invoke instead.\n",
      "  warn_deprecated(\n"
     ]
    },
    {
     "name": "stdout",
     "output_type": "stream",
     "text": [
      "---CHECK DOCUMENT RELEVANCE TO QUESTION---\n",
      "---GRADE: DOCUMENT RELEVANT---\n",
      "---GRADE: DOCUMENT RELEVANT---\n",
      "---ASSESS GRADED DOCUMENTS---\n",
      "---DECISION: GENERATE---\n",
      "---GENERATE---\n"
     ]
    }
   ],
   "source": [
    "value = app.invoke(inputs)"
   ]
  },
  {
   "cell_type": "code",
   "execution_count": 6,
   "metadata": {},
   "outputs": [
    {
     "data": {
      "text/plain": [
       "{'question': '介绍一下wed_mini',\n",
       " 'generation': 'WeD-mini是一款实现手机端荧光实时定量和结果自动判读的设备，它允许用户通过手机连接方便地查看检测结果并进行定量分析，无需依赖昂贵的仪器和复杂操作。该产品支持使用手机充电器或充电宝供电，便携设计使其能轻松放入口袋或背包，便于个人随时随地进行核酸检测，确保用户安全与健康。',\n",
       " 'web_search': 'No',\n",
       " 'documents': [Document(metadata={'author': '', 'creationDate': \"D:20240410180518+10'05'\", 'creator': 'WPS 演示', 'file_path': 'crag/knowledge_db/mini中文说明书底板_20240410180518.pdf', 'format': 'PDF 1.7', 'keywords': '', 'modDate': \"D:20240410180518+10'05'\", 'page': 2, 'producer': '', 'source': 'crag/knowledge_db/mini中文说明书底板_20240410180518.pdf', 'subject': '', 'title': '', 'total_pages': 8, 'trapped': ''}, page_content='杭州逸检科技有限公司         电话: 0571-88121369 \\n邮箱: 147958789@qq.com       网址: www.ezdxtech.com\\n全新功能：WeD-mini实现了手机端荧光实时定量和结果自动判读。\\n通过与手机连接，你可以方便地查看检测结果并进行定量分析，无\\n需昂贵的仪器和繁琐的操作。此外，WeD-mini支持使用手机充电器'),\n",
       "  Document(metadata={'author': '', 'creationDate': \"D:20240410180518+10'05'\", 'creator': 'WPS 演示', 'file_path': 'crag/knowledge_db/mini中文说明书底板_20240410180518.pdf', 'format': 'PDF 1.7', 'keywords': '', 'modDate': \"D:20240410180518+10'05'\", 'page': 2, 'producer': '', 'source': 'crag/knowledge_db/mini中文说明书底板_20240410180518.pdf', 'subject': '', 'title': '', 'total_pages': 8, 'trapped': ''}, page_content='需昂贵的仪器和繁琐的操作。此外，WeD-mini支持使用手机充电器\\n或充电宝供电，让你无忧电量不足，随时随地进行核酸检测。\\n便携设计：WeD-mini小巧轻便，可轻松放入背包或口袋，随时携\\n带。无论何时何地，你都能方便进行个人核酸检测，确保自身安\\n全与健康。微检测WeD-mini，为你的健康保驾护航，随时掌握核\\n酸信息，让核酸检测随处可做。')]}"
      ]
     },
     "execution_count": 6,
     "metadata": {},
     "output_type": "execute_result"
    }
   ],
   "source": [
    "value"
   ]
  },
  {
   "cell_type": "code",
   "execution_count": 7,
   "metadata": {},
   "outputs": [],
   "source": [
    "retriever = graph.get_retriever()"
   ]
  },
  {
   "cell_type": "code",
   "execution_count": 8,
   "metadata": {},
   "outputs": [
    {
     "data": {
      "text/plain": [
       "[Document(metadata={'author': '', 'creationDate': \"D:20240410180518+10'05'\", 'creator': 'WPS 演示', 'file_path': 'crag/knowledge_db/mini中文说明书底板_20240410180518.pdf', 'format': 'PDF 1.7', 'keywords': '', 'modDate': \"D:20240410180518+10'05'\", 'page': 2, 'producer': '', 'source': 'crag/knowledge_db/mini中文说明书底板_20240410180518.pdf', 'subject': '', 'title': '', 'total_pages': 8, 'trapped': ''}, page_content='杭州逸检科技有限公司         电话: 0571-88121369 \\n邮箱: 147958789@qq.com       网址: www.ezdxtech.com\\n全新功能：WeD-mini实现了手机端荧光实时定量和结果自动判读。\\n通过与手机连接，你可以方便地查看检测结果并进行定量分析，无\\n需昂贵的仪器和繁琐的操作。此外，WeD-mini支持使用手机充电器'),\n",
       " Document(metadata={'author': '', 'creationDate': \"D:20240410180518+10'05'\", 'creator': 'WPS 演示', 'file_path': 'crag/knowledge_db/mini中文说明书底板_20240410180518.pdf', 'format': 'PDF 1.7', 'keywords': '', 'modDate': \"D:20240410180518+10'05'\", 'page': 2, 'producer': '', 'source': 'crag/knowledge_db/mini中文说明书底板_20240410180518.pdf', 'subject': '', 'title': '', 'total_pages': 8, 'trapped': ''}, page_content='需昂贵的仪器和繁琐的操作。此外，WeD-mini支持使用手机充电器\\n或充电宝供电，让你无忧电量不足，随时随地进行核酸检测。\\n便携设计：WeD-mini小巧轻便，可轻松放入背包或口袋，随时携\\n带。无论何时何地，你都能方便进行个人核酸检测，确保自身安\\n全与健康。微检测WeD-mini，为你的健康保驾护航，随时掌握核\\n酸信息，让核酸检测随处可做。')]"
      ]
     },
     "execution_count": 8,
     "metadata": {},
     "output_type": "execute_result"
    }
   ],
   "source": [
    "retriever.get_relevant_documents(\"介绍一下wed_mini\")"
   ]
  },
  {
   "cell_type": "code",
   "execution_count": 9,
   "metadata": {},
   "outputs": [
    {
     "name": "stdout",
     "output_type": "stream",
     "text": [
      "---RETRIEVE---\n",
      "---CHECK DOCUMENT RELEVANCE TO QUESTION---\n",
      "---GRADE: DOCUMENT RELEVANT---\n",
      "---GRADE: DOCUMENT RELEVANT---\n",
      "---ASSESS GRADED DOCUMENTS---\n",
      "---DECISION: GENERATE---\n",
      "---GENERATE---\n"
     ]
    }
   ],
   "source": [
    "answers = []\n",
    "contexts = []\n",
    "for query in questions:\n",
    "    input = {\"question\": query}\n",
    "    answers.append(app.invoke(input)['generation'])\n",
    "    contexts.append([docs.page_content for docs in retriever.get_relevant_documents(query)])"
   ]
  },
  {
   "cell_type": "code",
   "execution_count": 10,
   "metadata": {},
   "outputs": [
    {
     "data": {
      "text/plain": [
       "['WeD™-mini是一款便携式的自检设备，能够快速进行新冠病毒、流感等疾病的居家检测，同时支持HIV定量分析及食品相关检测，如肉源性、转基因等，确保个人健康与食品安全信息的及时准确性。该设备通过与手机连接，实现荧光实时定量和结果自动判读，操作简便，无需专业仪器，且支持使用手机充电器供电。']"
      ]
     },
     "execution_count": 10,
     "metadata": {},
     "output_type": "execute_result"
    }
   ],
   "source": [
    "answers"
   ]
  },
  {
   "cell_type": "code",
   "execution_count": 11,
   "metadata": {},
   "outputs": [
    {
     "data": {
      "text/plain": [
       "[['WeD™-mini可快速应用于新冠病毒、流感等疾病的居家自检，还能\\n进行HIV的定量分析以及肉源性、转基因等检测，提供及时准确的\\n个人健康和食品安全信息。',\n",
       "  '杭州逸检科技有限公司         电话: 0571-88121369 \\n邮箱: 147958789@qq.com       网址: www.ezdxtech.com\\n全新功能：WeD-mini实现了手机端荧光实时定量和结果自动判读。\\n通过与手机连接，你可以方便地查看检测结果并进行定量分析，无\\n需昂贵的仪器和繁琐的操作。此外，WeD-mini支持使用手机充电器']]"
      ]
     },
     "execution_count": 11,
     "metadata": {},
     "output_type": "execute_result"
    }
   ],
   "source": [
    "contexts"
   ]
  },
  {
   "cell_type": "code",
   "execution_count": 22,
   "metadata": {},
   "outputs": [],
   "source": [
    "from datasets import Dataset\n",
    "data = {\n",
    "    \"question\":questions,\n",
    "    \"answer\":answers,\n",
    "    \"contexts\":contexts,\n",
    "    \"ground_truth\":ground_truths\n",
    "}\n",
    "datasets = Dataset.from_dict(data)"
   ]
  },
  {
   "cell_type": "code",
   "execution_count": 23,
   "metadata": {},
   "outputs": [
    {
     "data": {
      "text/plain": [
       "Dataset({\n",
       "    features: ['question', 'answer', 'contexts', 'ground_truth'],\n",
       "    num_rows: 1\n",
       "})"
      ]
     },
     "execution_count": 23,
     "metadata": {},
     "output_type": "execute_result"
    }
   ],
   "source": [
    "datasets"
   ]
  },
  {
   "cell_type": "code",
   "execution_count": 14,
   "metadata": {},
   "outputs": [],
   "source": [
    "from ragas.llms import LangchainLLMWrapper"
   ]
  },
  {
   "cell_type": "code",
   "execution_count": 16,
   "metadata": {},
   "outputs": [],
   "source": [
    "from ragas import evaluate"
   ]
  },
  {
   "cell_type": "code",
   "execution_count": 17,
   "metadata": {},
   "outputs": [],
   "source": [
    "\n",
    "from ragas.metrics import (\n",
    "    faithfulness,\n",
    "    answer_relevancy,\n",
    "    context_recall,\n",
    "    context_precision,\n",
    ")\n"
   ]
  },
  {
   "cell_type": "code",
   "execution_count": 18,
   "metadata": {},
   "outputs": [],
   "source": [
    "from llm_chian.model_to_llm import get_llm\n",
    "llm = get_llm(model = \"qwen-max\", temperature = 0, api_key = 'sk-83f939a7ee424d588c176662a9636061')"
   ]
  },
  {
   "cell_type": "code",
   "execution_count": 19,
   "metadata": {},
   "outputs": [],
   "source": [
    "from database.embedding import get_embedding\n",
    "embeddings = get_embedding('bge')"
   ]
  },
  {
   "cell_type": "code",
   "execution_count": 26,
   "metadata": {},
   "outputs": [],
   "source": [
    "from ragas.run_config import RunConfig"
   ]
  },
  {
   "cell_type": "code",
   "execution_count": 27,
   "metadata": {},
   "outputs": [
    {
     "data": {
      "application/vnd.jupyter.widget-view+json": {
       "model_id": "6fe03a68279a4ba085e589fa69928299",
       "version_major": 2,
       "version_minor": 0
      },
      "text/plain": [
       "Evaluating:   0%|          | 0/4 [00:00<?, ?it/s]"
      ]
     },
     "metadata": {},
     "output_type": "display_data"
    }
   ],
   "source": [
    "evaluate_result = evaluate(\n",
    "    datasets,\n",
    "    metrics=[\n",
    "        faithfulness,\n",
    "    answer_relevancy,\n",
    "    context_recall,\n",
    "    context_precision,\n",
    "    ],\n",
    "    llm = llm,\n",
    "    embeddings = embeddings,\n",
    "    run_config=RunConfig(max_workers=64), # increasing max_workers from default 16\n",
    ")"
   ]
  },
  {
   "cell_type": "code",
   "execution_count": 25,
   "metadata": {},
   "outputs": [
    {
     "data": {
      "text/html": [
       "<div>\n",
       "<style scoped>\n",
       "    .dataframe tbody tr th:only-of-type {\n",
       "        vertical-align: middle;\n",
       "    }\n",
       "\n",
       "    .dataframe tbody tr th {\n",
       "        vertical-align: top;\n",
       "    }\n",
       "\n",
       "    .dataframe thead th {\n",
       "        text-align: right;\n",
       "    }\n",
       "</style>\n",
       "<table border=\"1\" class=\"dataframe\">\n",
       "  <thead>\n",
       "    <tr style=\"text-align: right;\">\n",
       "      <th></th>\n",
       "      <th>question</th>\n",
       "      <th>answer</th>\n",
       "      <th>contexts</th>\n",
       "      <th>ground_truth</th>\n",
       "      <th>faithfulness</th>\n",
       "      <th>answer_relevancy</th>\n",
       "      <th>context_recall</th>\n",
       "      <th>context_precision</th>\n",
       "    </tr>\n",
       "  </thead>\n",
       "  <tbody>\n",
       "    <tr>\n",
       "      <th>0</th>\n",
       "      <td>介绍一下wed-mini</td>\n",
       "      <td>WeD™-mini是一款便携式的自检设备，能够快速进行新冠病毒、流感等疾病的居家检测，同时支...</td>\n",
       "      <td>[WeD™-mini可快速应用于新冠病毒、流感等疾病的居家自检，还能\\n进行HIV的定量分析...</td>\n",
       "      <td>wed-mini是一款便携型核酸检测设备， 可快速应用于新冠病毒，流感等疾病的居家自检，还能...</td>\n",
       "      <td>1.0</td>\n",
       "      <td>0.591656</td>\n",
       "      <td>1.0</td>\n",
       "      <td>1.0</td>\n",
       "    </tr>\n",
       "  </tbody>\n",
       "</table>\n",
       "</div>"
      ],
      "text/plain": [
       "       question                                             answer  \\\n",
       "0  介绍一下wed-mini  WeD™-mini是一款便携式的自检设备，能够快速进行新冠病毒、流感等疾病的居家检测，同时支...   \n",
       "\n",
       "                                            contexts  \\\n",
       "0  [WeD™-mini可快速应用于新冠病毒、流感等疾病的居家自检，还能\\n进行HIV的定量分析...   \n",
       "\n",
       "                                        ground_truth  faithfulness  \\\n",
       "0  wed-mini是一款便携型核酸检测设备， 可快速应用于新冠病毒，流感等疾病的居家自检，还能...           1.0   \n",
       "\n",
       "   answer_relevancy  context_recall  context_precision  \n",
       "0          0.591656             1.0                1.0  "
      ]
     },
     "execution_count": 25,
     "metadata": {},
     "output_type": "execute_result"
    }
   ],
   "source": [
    "df_evaluate_result = evaluate_result.to_pandas()\n",
    "df_evaluate_result"
   ]
  }
 ],
 "metadata": {
  "kernelspec": {
   "display_name": "RAG",
   "language": "python",
   "name": "python3"
  },
  "language_info": {
   "codemirror_mode": {
    "name": "ipython",
    "version": 3
   },
   "file_extension": ".py",
   "mimetype": "text/x-python",
   "name": "python",
   "nbconvert_exporter": "python",
   "pygments_lexer": "ipython3",
   "version": "3.10.14"
  }
 },
 "nbformat": 4,
 "nbformat_minor": 2
}
