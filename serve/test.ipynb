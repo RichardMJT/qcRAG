{
 "cells": [
  {
   "cell_type": "code",
   "execution_count": 1,
   "metadata": {},
   "outputs": [],
   "source": [
    "import os\n",
    "import sys\n",
    "sys.path.append(os.path.join('../'))\n",
    "sys.path.append(os.path.join('./'))\n",
    "\n",
    "from database.get_vectordb import get_vectordb\n",
    "from llm_chian.rag_chain import get_rag_chain\n",
    "from llm_chian.retrieval_grader import get_retrieval_grader\n",
    "from llm_chian.question_re_writer import get_question_rewriter\n",
    "from tool.search import get_web_search_tool\n",
    "from graph.crag import GraphPoint\n"
   ]
  },
  {
   "cell_type": "code",
   "execution_count": 2,
   "metadata": {},
   "outputs": [
    {
     "name": "stderr",
     "output_type": "stream",
     "text": [
      "/home/ezdx/anaconda3/envs/RAG/lib/python3.10/site-packages/sentence_transformers/cross_encoder/CrossEncoder.py:11: TqdmExperimentalWarning: Using `tqdm.autonotebook.tqdm` in notebook mode. Use `tqdm.tqdm` instead to force console mode (e.g. in jupyter console)\n",
      "  from tqdm.autonotebook import tqdm, trange\n"
     ]
    }
   ],
   "source": [
    "file_path='../knowledge_db'\n",
    "persist_path = '../vector_db/chroma'\n",
    "api_key=''\n",
    "embedding='bge'\n",
    "model:str='qwen-max'\n",
    "temperature:float=0.0\n",
    "top_k:int=4\n",
    "chat_history:list=[]\n",
    "search_type=\"similarity\"\n",
    "search_kwargs={'k': 4}\n",
    "# 创建向量数据库\n",
    "vectordb = get_vectordb(file_path, persist_path)\n",
    "# 创建检索器\n",
    "retriever = vectordb.as_retriever(search_type=search_type, search_kwargs=search_kwargs)\n",
    "rag_chain = get_rag_chain(model = model, temperature = temperature, api_key = api_key)\n",
    "retrieval_grader = get_retrieval_grader(model = model, temperature = temperature, api_key = api_key)\n",
    "question_rewriter = get_question_rewriter(model = model, temperature = temperature, api_key = api_key)\n",
    "web_search_tool = get_web_search_tool() "
   ]
  },
  {
   "cell_type": "code",
   "execution_count": 7,
   "metadata": {},
   "outputs": [],
   "source": [
    "graph = GraphPoint(retriever, rag_chain, retrieval_grader, question_rewriter, web_search_tool)\n",
    "app = graph.bulid_graph()"
   ]
  },
  {
   "cell_type": "code",
   "execution_count": 8,
   "metadata": {},
   "outputs": [],
   "source": [
    "question = '介绍一下wed-mini'\n"
   ]
  },
  {
   "cell_type": "code",
   "execution_count": 9,
   "metadata": {},
   "outputs": [
    {
     "name": "stdout",
     "output_type": "stream",
     "text": [
      "---RETRIEVE---\n",
      "---CHECK DOCUMENT RELEVANCE TO QUESTION---\n",
      "yes\n",
      "---GRADE: DOCUMENT RELEVANT---\n",
      "yes\n",
      "---GRADE: DOCUMENT RELEVANT---\n",
      "yes\n",
      "---GRADE: DOCUMENT RELEVANT---\n",
      "yes\n",
      "---GRADE: DOCUMENT RELEVANT---\n",
      "---ASSESS GRADED DOCUMENTS---\n",
      "---DECISION: GENERATE---\n"
     ]
    },
    {
     "ename": "KeyboardInterrupt",
     "evalue": "",
     "output_type": "error",
     "traceback": [
      "\u001b[0;31m---------------------------------------------------------------------------\u001b[0m",
      "\u001b[0;31mKeyboardInterrupt\u001b[0m                         Traceback (most recent call last)",
      "Cell \u001b[0;32mIn[9], line 1\u001b[0m\n\u001b[0;32m----> 1\u001b[0m result \u001b[38;5;241m=\u001b[39m \u001b[43mapp\u001b[49m\u001b[38;5;241;43m.\u001b[39;49m\u001b[43minvoke\u001b[49m\u001b[43m(\u001b[49m\u001b[43m{\u001b[49m\u001b[38;5;124;43m\"\u001b[39;49m\u001b[38;5;124;43mquestion\u001b[39;49m\u001b[38;5;124;43m\"\u001b[39;49m\u001b[43m:\u001b[49m\u001b[43m \u001b[49m\u001b[43mquestion\u001b[49m\u001b[43m,\u001b[49m\u001b[38;5;124;43m\"\u001b[39;49m\u001b[38;5;124;43mchat_history\u001b[39;49m\u001b[38;5;124;43m\"\u001b[39;49m\u001b[43m:\u001b[49m\u001b[43m \u001b[49m\u001b[43mchat_history\u001b[49m\u001b[43m}\u001b[49m\u001b[43m)\u001b[49m \n",
      "File \u001b[0;32m~/anaconda3/envs/RAG/lib/python3.10/site-packages/langgraph/pregel/__init__.py:1281\u001b[0m, in \u001b[0;36mPregel.invoke\u001b[0;34m(self, input, config, stream_mode, output_keys, interrupt_before, interrupt_after, debug, **kwargs)\u001b[0m\n\u001b[1;32m   1279\u001b[0m \u001b[38;5;28;01melse\u001b[39;00m:\n\u001b[1;32m   1280\u001b[0m     chunks \u001b[38;5;241m=\u001b[39m []\n\u001b[0;32m-> 1281\u001b[0m \u001b[38;5;28;01mfor\u001b[39;00m chunk \u001b[38;5;129;01min\u001b[39;00m \u001b[38;5;28mself\u001b[39m\u001b[38;5;241m.\u001b[39mstream(\n\u001b[1;32m   1282\u001b[0m     \u001b[38;5;28minput\u001b[39m,\n\u001b[1;32m   1283\u001b[0m     config,\n\u001b[1;32m   1284\u001b[0m     stream_mode\u001b[38;5;241m=\u001b[39mstream_mode,\n\u001b[1;32m   1285\u001b[0m     output_keys\u001b[38;5;241m=\u001b[39moutput_keys,\n\u001b[1;32m   1286\u001b[0m     interrupt_before\u001b[38;5;241m=\u001b[39minterrupt_before,\n\u001b[1;32m   1287\u001b[0m     interrupt_after\u001b[38;5;241m=\u001b[39minterrupt_after,\n\u001b[1;32m   1288\u001b[0m     debug\u001b[38;5;241m=\u001b[39mdebug,\n\u001b[1;32m   1289\u001b[0m     \u001b[38;5;241m*\u001b[39m\u001b[38;5;241m*\u001b[39mkwargs,\n\u001b[1;32m   1290\u001b[0m ):\n\u001b[1;32m   1291\u001b[0m     \u001b[38;5;28;01mif\u001b[39;00m stream_mode \u001b[38;5;241m==\u001b[39m \u001b[38;5;124m\"\u001b[39m\u001b[38;5;124mvalues\u001b[39m\u001b[38;5;124m\"\u001b[39m:\n\u001b[1;32m   1292\u001b[0m         latest \u001b[38;5;241m=\u001b[39m chunk\n",
      "File \u001b[0;32m~/anaconda3/envs/RAG/lib/python3.10/site-packages/langgraph/pregel/__init__.py:924\u001b[0m, in \u001b[0;36mPregel.stream\u001b[0;34m(self, input, config, stream_mode, output_keys, interrupt_before, interrupt_after, debug)\u001b[0m\n\u001b[1;32m    922\u001b[0m     done, inflight \u001b[38;5;241m=\u001b[39m \u001b[38;5;28mset\u001b[39m(), \u001b[38;5;28mset\u001b[39m()\n\u001b[1;32m    923\u001b[0m \u001b[38;5;28;01mwhile\u001b[39;00m futures:\n\u001b[0;32m--> 924\u001b[0m     done, inflight \u001b[38;5;241m=\u001b[39m \u001b[43mconcurrent\u001b[49m\u001b[38;5;241;43m.\u001b[39;49m\u001b[43mfutures\u001b[49m\u001b[38;5;241;43m.\u001b[39;49m\u001b[43mwait\u001b[49m\u001b[43m(\u001b[49m\n\u001b[1;32m    925\u001b[0m \u001b[43m        \u001b[49m\u001b[43mfutures\u001b[49m\u001b[43m,\u001b[49m\n\u001b[1;32m    926\u001b[0m \u001b[43m        \u001b[49m\u001b[43mreturn_when\u001b[49m\u001b[38;5;241;43m=\u001b[39;49m\u001b[43mconcurrent\u001b[49m\u001b[38;5;241;43m.\u001b[39;49m\u001b[43mfutures\u001b[49m\u001b[38;5;241;43m.\u001b[39;49m\u001b[43mFIRST_COMPLETED\u001b[49m\u001b[43m,\u001b[49m\n\u001b[1;32m    927\u001b[0m \u001b[43m        \u001b[49m\u001b[43mtimeout\u001b[49m\u001b[38;5;241;43m=\u001b[39;49m\u001b[43m(\u001b[49m\n\u001b[1;32m    928\u001b[0m \u001b[43m            \u001b[49m\u001b[38;5;28;43mmax\u001b[39;49m\u001b[43m(\u001b[49m\u001b[38;5;241;43m0\u001b[39;49m\u001b[43m,\u001b[49m\u001b[43m \u001b[49m\u001b[43mend_time\u001b[49m\u001b[43m \u001b[49m\u001b[38;5;241;43m-\u001b[39;49m\u001b[43m \u001b[49m\u001b[43mtime\u001b[49m\u001b[38;5;241;43m.\u001b[39;49m\u001b[43mmonotonic\u001b[49m\u001b[43m(\u001b[49m\u001b[43m)\u001b[49m\u001b[43m)\u001b[49m\n\u001b[1;32m    929\u001b[0m \u001b[43m            \u001b[49m\u001b[38;5;28;43;01mif\u001b[39;49;00m\u001b[43m \u001b[49m\u001b[43mend_time\u001b[49m\n\u001b[1;32m    930\u001b[0m \u001b[43m            \u001b[49m\u001b[38;5;28;43;01melse\u001b[39;49;00m\u001b[43m \u001b[49m\u001b[38;5;28;43;01mNone\u001b[39;49;00m\n\u001b[1;32m    931\u001b[0m \u001b[43m        \u001b[49m\u001b[43m)\u001b[49m\u001b[43m,\u001b[49m\n\u001b[1;32m    932\u001b[0m \u001b[43m    \u001b[49m\u001b[43m)\u001b[49m\n\u001b[1;32m    933\u001b[0m     \u001b[38;5;28;01mif\u001b[39;00m \u001b[38;5;129;01mnot\u001b[39;00m done:\n\u001b[1;32m    934\u001b[0m         \u001b[38;5;28;01mbreak\u001b[39;00m  \u001b[38;5;66;03m# timed out\u001b[39;00m\n",
      "File \u001b[0;32m~/anaconda3/envs/RAG/lib/python3.10/concurrent/futures/_base.py:307\u001b[0m, in \u001b[0;36mwait\u001b[0;34m(fs, timeout, return_when)\u001b[0m\n\u001b[1;32m    303\u001b[0m         \u001b[38;5;28;01mreturn\u001b[39;00m DoneAndNotDoneFutures(done, not_done)\n\u001b[1;32m    305\u001b[0m     waiter \u001b[38;5;241m=\u001b[39m _create_and_install_waiters(fs, return_when)\n\u001b[0;32m--> 307\u001b[0m \u001b[43mwaiter\u001b[49m\u001b[38;5;241;43m.\u001b[39;49m\u001b[43mevent\u001b[49m\u001b[38;5;241;43m.\u001b[39;49m\u001b[43mwait\u001b[49m\u001b[43m(\u001b[49m\u001b[43mtimeout\u001b[49m\u001b[43m)\u001b[49m\n\u001b[1;32m    308\u001b[0m \u001b[38;5;28;01mfor\u001b[39;00m f \u001b[38;5;129;01min\u001b[39;00m fs:\n\u001b[1;32m    309\u001b[0m     \u001b[38;5;28;01mwith\u001b[39;00m f\u001b[38;5;241m.\u001b[39m_condition:\n",
      "File \u001b[0;32m~/anaconda3/envs/RAG/lib/python3.10/threading.py:607\u001b[0m, in \u001b[0;36mEvent.wait\u001b[0;34m(self, timeout)\u001b[0m\n\u001b[1;32m    605\u001b[0m signaled \u001b[38;5;241m=\u001b[39m \u001b[38;5;28mself\u001b[39m\u001b[38;5;241m.\u001b[39m_flag\n\u001b[1;32m    606\u001b[0m \u001b[38;5;28;01mif\u001b[39;00m \u001b[38;5;129;01mnot\u001b[39;00m signaled:\n\u001b[0;32m--> 607\u001b[0m     signaled \u001b[38;5;241m=\u001b[39m \u001b[38;5;28;43mself\u001b[39;49m\u001b[38;5;241;43m.\u001b[39;49m\u001b[43m_cond\u001b[49m\u001b[38;5;241;43m.\u001b[39;49m\u001b[43mwait\u001b[49m\u001b[43m(\u001b[49m\u001b[43mtimeout\u001b[49m\u001b[43m)\u001b[49m\n\u001b[1;32m    608\u001b[0m \u001b[38;5;28;01mreturn\u001b[39;00m signaled\n",
      "File \u001b[0;32m~/anaconda3/envs/RAG/lib/python3.10/threading.py:320\u001b[0m, in \u001b[0;36mCondition.wait\u001b[0;34m(self, timeout)\u001b[0m\n\u001b[1;32m    318\u001b[0m \u001b[38;5;28;01mtry\u001b[39;00m:    \u001b[38;5;66;03m# restore state no matter what (e.g., KeyboardInterrupt)\u001b[39;00m\n\u001b[1;32m    319\u001b[0m     \u001b[38;5;28;01mif\u001b[39;00m timeout \u001b[38;5;129;01mis\u001b[39;00m \u001b[38;5;28;01mNone\u001b[39;00m:\n\u001b[0;32m--> 320\u001b[0m         \u001b[43mwaiter\u001b[49m\u001b[38;5;241;43m.\u001b[39;49m\u001b[43macquire\u001b[49m\u001b[43m(\u001b[49m\u001b[43m)\u001b[49m\n\u001b[1;32m    321\u001b[0m         gotit \u001b[38;5;241m=\u001b[39m \u001b[38;5;28;01mTrue\u001b[39;00m\n\u001b[1;32m    322\u001b[0m     \u001b[38;5;28;01melse\u001b[39;00m:\n",
      "\u001b[0;31mKeyboardInterrupt\u001b[0m: "
     ]
    }
   ],
   "source": [
    "result = app.invoke({\"question\": question,\"chat_history\": chat_history}) "
   ]
  },
  {
   "cell_type": "code",
   "execution_count": 6,
   "metadata": {},
   "outputs": [
    {
     "data": {
      "text/plain": [
       "{'question': '介绍一下wed-mini',\n",
       " 'generation': 'WeD™-mini是一款个人便携型核酸检测设备，适用于居家自检新冠病毒、流感等疾病，还能进行HIV定量分析及食品安全检测。它通过手机端实现荧光实时定量和结果自动判读，无需复杂仪器，支持手机充电器或充电宝供电，便携设计便于携带，确保用户随时掌握核酸信息。',\n",
       " 'web_search': 'No',\n",
       " 'documents': [Document(metadata={'author': '', 'creationDate': \"D:20240410180518+10'05'\", 'creator': 'WPS 演示', 'file_path': 'crag/knowledge_db/mini中文说明书底板_20240410180518.pdf', 'format': 'PDF 1.7', 'keywords': '', 'modDate': \"D:20240410180518+10'05'\", 'page': 1, 'producer': '', 'source': 'crag/knowledge_db/mini中文说明书底板_20240410180518.pdf', 'subject': '', 'title': '', 'total_pages': 8, 'trapped': ''}, page_content='WeD™-mini可快速应用于新冠病毒、流感等疾病的居家自检，还能\\n进行HIV的定量分析以及肉源性、转基因等检测，提供及时准确的\\n个人健康和食品安全信息。'),\n",
       "  Document(metadata={'author': '', 'creationDate': \"D:20240410180518+10'05'\", 'creator': 'WPS 演示', 'file_path': 'crag/knowledge_db/mini中文说明书底板_20240410180518.pdf', 'format': 'PDF 1.7', 'keywords': '', 'modDate': \"D:20240410180518+10'05'\", 'page': 2, 'producer': '', 'source': 'crag/knowledge_db/mini中文说明书底板_20240410180518.pdf', 'subject': '', 'title': '', 'total_pages': 8, 'trapped': ''}, page_content='杭州逸检科技有限公司         电话: 0571-88121369 \\n邮箱: 147958789@qq.com       网址: www.ezdxtech.com\\n全新功能：WeD-mini实现了手机端荧光实时定量和结果自动判读。\\n通过与手机连接，你可以方便地查看检测结果并进行定量分析，无\\n需昂贵的仪器和繁琐的操作。此外，WeD-mini支持使用手机充电器'),\n",
       "  Document(metadata={'author': '', 'creationDate': \"D:20240410180518+10'05'\", 'creator': 'WPS 演示', 'file_path': 'crag/knowledge_db/mini中文说明书底板_20240410180518.pdf', 'format': 'PDF 1.7', 'keywords': '', 'modDate': \"D:20240410180518+10'05'\", 'page': 2, 'producer': '', 'source': 'crag/knowledge_db/mini中文说明书底板_20240410180518.pdf', 'subject': '', 'title': '', 'total_pages': 8, 'trapped': ''}, page_content='需昂贵的仪器和繁琐的操作。此外，WeD-mini支持使用手机充电器\\n或充电宝供电，让你无忧电量不足，随时随地进行核酸检测。\\n便携设计：WeD-mini小巧轻便，可轻松放入背包或口袋，随时携\\n带。无论何时何地，你都能方便进行个人核酸检测，确保自身安\\n全与健康。微检测WeD-mini，为你的健康保驾护航，随时掌握核\\n酸信息，让核酸检测随处可做。'),\n",
       "  Document(metadata={'author': '', 'creationDate': \"D:20240410180518+10'05'\", 'creator': 'WPS 演示', 'file_path': 'crag/knowledge_db/mini中文说明书底板_20240410180518.pdf', 'format': 'PDF 1.7', 'keywords': '', 'modDate': \"D:20240410180518+10'05'\", 'page': 1, 'producer': '', 'source': 'crag/knowledge_db/mini中文说明书底板_20240410180518.pdf', 'subject': '', 'title': '', 'total_pages': 8, 'trapped': ''}, page_content='产品功能介绍：微检测WeD™-mini是在WeD™-1核酸检测仪的基础\\n上进行精简优化的个人便携型核酸检测设备。它重量仅为61克，保\\n留了两个检测孔，非常适合个人使用。适用于LAMP、RPA、\\nLAMP-CRISPR、RPA-CRISPR、LAMP-PfAgo等恒温检测路线。\\nWeD™-mini可快速应用于新冠病毒、流感等疾病的居家自检，还能')]}"
      ]
     },
     "execution_count": 6,
     "metadata": {},
     "output_type": "execute_result"
    }
   ],
   "source": [
    "result"
   ]
  }
 ],
 "metadata": {
  "kernelspec": {
   "display_name": "RAG",
   "language": "python",
   "name": "python3"
  },
  "language_info": {
   "codemirror_mode": {
    "name": "ipython",
    "version": 3
   },
   "file_extension": ".py",
   "mimetype": "text/x-python",
   "name": "python",
   "nbconvert_exporter": "python",
   "pygments_lexer": "ipython3",
   "version": "3.10.14"
  }
 },
 "nbformat": 4,
 "nbformat_minor": 2
}
