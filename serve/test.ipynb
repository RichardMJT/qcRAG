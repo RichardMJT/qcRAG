{
 "cells": [
  {
   "cell_type": "code",
   "execution_count": 1,
   "metadata": {},
   "outputs": [],
   "source": [
    "import os\n",
    "import sys\n",
    "absPath = os.path.abspath(os.getcwd())#返回代码段所在的位置，肯定是在某个.py文件中\n",
    "temPath = os.path.dirname(absPath)    #往上返回一级目录，得到文件所在的路径\n",
    "sys.path.append(temPath)  \n",
    "temPath = os.path.dirname(temPath)    #在往上返回一级，得到文件夹所在的路径\n",
    "sys.path.append(temPath)  \n",
    "\n",
    "\n",
    "from database.get_vectordb import get_vectordb\n",
    "from llm_chian.rag_chain import get_rag_chain\n",
    "from llm_chian.retrieval_grader import get_retrieval_grader\n",
    "from llm_chian.question_re_writer import get_question_rewriter\n",
    "from tool.search import get_web_search_tool\n",
    "from graph.crag import GraphPoint\n"
   ]
  },
  {
   "cell_type": "code",
   "execution_count": 2,
   "metadata": {},
   "outputs": [
    {
     "name": "stderr",
     "output_type": "stream",
     "text": [
      "/home/ezdx/anaconda3/envs/RAG/lib/python3.10/site-packages/sentence_transformers/cross_encoder/CrossEncoder.py:11: TqdmExperimentalWarning: Using `tqdm.autonotebook.tqdm` in notebook mode. Use `tqdm.tqdm` instead to force console mode (e.g. in jupyter console)\n",
      "  from tqdm.autonotebook import tqdm, trange\n"
     ]
    }
   ],
   "source": [
    "file_path='../knowledge_db'\n",
    "persist_path = '../vector_db/chroma'\n",
    "api_key=''\n",
    "embedding='bge'\n",
    "model:str='llama3.1'\n",
    "temperature:float=0.0\n",
    "top_k:int=4\n",
    "chat_history:list=[]\n",
    "search_type=\"similarity\"\n",
    "search_kwargs={'k': 4}\n",
    "# 创建向量数据库\n",
    "vectordb = get_vectordb(file_path, persist_path)\n",
    "# 创建检索器\n",
    "retriever = vectordb.as_retriever(search_type=search_type, search_kwargs=search_kwargs)\n",
    "rag_chain = get_rag_chain(model = model, temperature = temperature, api_key = api_key)\n",
    "retrieval_grader = get_retrieval_grader(model = model, temperature = temperature, api_key = api_key)\n",
    "question_rewriter = get_question_rewriter(model = model, temperature = temperature, api_key = api_key)\n",
    "web_search_tool = get_web_search_tool() "
   ]
  },
  {
   "cell_type": "code",
   "execution_count": 3,
   "metadata": {},
   "outputs": [],
   "source": [
    "graph = GraphPoint(retriever, rag_chain, retrieval_grader, question_rewriter, web_search_tool)\n",
    "app = graph.bulid_graph()"
   ]
  },
  {
   "cell_type": "code",
   "execution_count": 9,
   "metadata": {},
   "outputs": [],
   "source": [
    "question = '你好'\n"
   ]
  },
  {
   "cell_type": "code",
   "execution_count": 10,
   "metadata": {},
   "outputs": [
    {
     "name": "stdout",
     "output_type": "stream",
     "text": [
      "---RETRIEVE---\n",
      "---CHECK DOCUMENT RELEVANCE TO QUESTION---\n",
      "score\n",
      "no\n",
      "---GRADE: DOCUMENT NOT RELEVANT---\n",
      "score\n",
      "no\n",
      "---GRADE: DOCUMENT NOT RELEVANT---\n",
      "score\n",
      "no\n",
      "---GRADE: DOCUMENT NOT RELEVANT---\n",
      "score\n",
      "no\n",
      "---GRADE: DOCUMENT NOT RELEVANT---\n",
      "---ASSESS GRADED DOCUMENTS---\n",
      "---DECISION: ALL DOCUMENTS ARE NOT RELEVANT TO QUESTION, TRANSFORM QUERY---\n",
      "---TRANSFORM QUERY---\n",
      "---------------------------------\n",
      "content='你好' response_metadata={'model': 'llama3.1', 'created_at': '2024-09-04T07:35:39.600219956Z', 'message': {'role': 'assistant', 'content': ''}, 'done_reason': 'stop', 'done': True, 'total_duration': 254784098, 'load_duration': 60265247, 'prompt_eval_count': 94, 'prompt_eval_duration': 28245000, 'eval_count': 3, 'eval_duration': 35569000} id='run-9393ad81-a86d-443e-a90a-45d3cd9f321d-0' usage_metadata={'input_tokens': 94, 'output_tokens': 3, 'total_tokens': 97}\n",
      "---------------------------------\n",
      "---WEB SEARCH---\n",
      "-----------question------------\n",
      "你好\n",
      "-----------question------------\n",
      "---GENERATE---\n"
     ]
    }
   ],
   "source": [
    "result = app.invoke({\"question\": question,\"chat_history\": chat_history}) "
   ]
  },
  {
   "cell_type": "code",
   "execution_count": 11,
   "metadata": {},
   "outputs": [
    {
     "data": {
      "text/plain": [
       "{'question': '你好',\n",
       " 'generation': '你好是汉语词语，拼音是nǐ hǎo，是打招呼的敬语常用词语。它也是个最基本的汉语词语。主要用于打招呼、请教别人问题时，或单纯表示礼貌问候的时候等。',\n",
       " 'web_search': 'Yes',\n",
       " 'documents': [Document(page_content='你\\n好\\n是\\n一\\n个\\n汉\\n语\\n词\\n语\\n，\\n拼\\n音\\n是\\nn\\nǐ\\n \\nh\\nǎ\\no\\n，\\n是\\n汉\\n语\\n中\\n打\\n招\\n呼\\n的\\n敬\\n语\\n常\\n用\\n词\\n语\\n，\\n作\\n为\\n一\\n般\\n对\\n话\\n的\\n开\\n场\\n白\\n。\\n \\n这\\n也\\n是\\n个\\n最\\n基\\n本\\n的\\n汉\\n语\\n词\\n语\\n。\\n \\n主\\n要\\n用\\n于\\n打\\n招\\n呼\\n、\\n请\\n教\\n别\\n人\\n问\\n题\\n时\\n，\\n或\\n者\\n单\\n纯\\n表\\n示\\n礼\\n貌\\n问\\n候\\n的\\n时\\n候\\n等\\n。')]}"
      ]
     },
     "execution_count": 11,
     "metadata": {},
     "output_type": "execute_result"
    }
   ],
   "source": [
    "result"
   ]
  },
  {
   "cell_type": "code",
   "execution_count": 6,
   "metadata": {},
   "outputs": [
    {
     "data": {
      "text/plain": [
       "'逸检科技是一家专业从事分子检测技术解决方案提供的研发型公司。 公司着眼于用户对疾病、病原体自助检测的未来趋势，打造走进基层医疗机构，服务大众的分子检测产品，最终实现基于手机的全民智能自助检测。 公司致力于“从微检测，到We检测”，用微型疾病检测仪器，实现全民分级诊疗至家庭及个人端。'"
      ]
     },
     "execution_count": 6,
     "metadata": {},
     "output_type": "execute_result"
    }
   ],
   "source": [
    "tool = web_search_tool\n",
    "tool.run('\"逸检科技公司介绍\"')"
   ]
  },
  {
   "cell_type": "code",
   "execution_count": 7,
   "metadata": {},
   "outputs": [
    {
     "data": {
      "text/plain": [
       "{'question': '逸检科技',\n",
       " 'generation': '逸检科技是一家专注于分子检测技术解决方案提供的研发型公司。他们致力于用微检测实现We检测，推出了个人掌上核酸荧光检测仪WED-1和WED-TM等产品。',\n",
       " 'web_search': 'Yes',\n",
       " 'documents': [Document(metadata={'author': '', 'creationDate': \"D:20240410180518+10'05'\", 'creator': 'WPS 演示', 'file_path': 'crag/knowledge_db/mini中文说明书底板_20240410180518.pdf', 'format': 'PDF 1.7', 'keywords': '', 'modDate': \"D:20240410180518+10'05'\", 'page': 4, 'producer': '', 'source': 'crag/knowledge_db/mini中文说明书底板_20240410180518.pdf', 'subject': '', 'title': '', 'total_pages': 8, 'trapped': ''}, page_content='杭州逸检科技有限公司         电话: 0571-88121369 \\n邮箱: 147958789@qq.com       网址: www.ezdxtech.com\\n逸检科技公众号\\n逸检科技视频号'),\n",
       "  Document(metadata={'author': '', 'creationDate': \"D:20240410180518+10'05'\", 'creator': 'WPS 演示', 'file_path': 'crag/knowledge_db/mini中文说明书底板_20240410180518.pdf', 'format': 'PDF 1.7', 'keywords': '', 'modDate': \"D:20240410180518+10'05'\", 'page': 0, 'producer': '', 'source': 'crag/knowledge_db/mini中文说明书底板_20240410180518.pdf', 'subject': '', 'title': '', 'total_pages': 8, 'trapped': ''}, page_content='逸检科技EzDx\\n核酸居家检测引领者\\n个人掌上核酸荧光检测仪\\n用户手册 \\n我们致力于用微检测实现We检测\\nWeD   -mini\\nTM'),\n",
       "  Document(page_content=\"[\\n'\\n关\\n于\\n我\\n们\\n \\n.\\n.\\n.\\n \\n逸\\n检\\n科\\n技\\n是\\n一\\n家\\n专\\n业\\n从\\n事\\n分\\n子\\n检\\n测\\n技\\n术\\n解\\n决\\n方\\n案\\n提\\n供\\n的\\n研\\n发\\n型\\n公\\n司\\n。\\n公\\n司\\n着\\n眼\\n于\\n用\\n户\\n对\\n疾\\n病\\n、\\n病\\n原\\n体\\n自\\n助\\n检\\n测\\n的\\n未\\n来\\n趋\\n势\\n，\\n打\\n造\\n走\\n进\\n基\\n层\\n医\\n疗\\n机\\n构\\n，\\n服\\n务\\n大\\n众\\n的\\n分\\n子\\n检\\n测\\n \\n.\\n.\\n.\\n'\\n,\\n \\n'\\n产\\n品\\n介\\n绍\\n：\\n微\\n检\\n测\\nW\\ne\\nD\\n™\\n-\\n1\\n可\\n视\\n化\\n手\\n持\\n核\\n酸\\n检\\n测\\n仪\\n是\\n一\\n种\\n可\\n循\\n环\\n使\\n用\\n的\\n、\\n便\\n携\\n的\\n、\\n易\\n操\\n作\\n的\\n、\\n具\\n有\\n极\\n高\\n性\\n价\\n比\\n的\\n核\\n酸\\n检\\n测\\n设\\n备\\n，\\n重\\n量\\n2\\n8\\n0\\ng\\n，\\n能\\n与\\n手\\n机\\n实\\n时\\n交\\n互\\n，\\n可\\n放\\n入\\n背\\n包\\n，\\n是\\n核\\n酸\\n居\\n家\\n \\n.\\n.\\n.\\n'\\n,\\n \\n'\\n产\\n品\\n介\\n绍\\n：\\n微\\n检\\n测\\nW\\ne\\nD\\nT\\nM\\n-\\n1\\n可\\n视\\n化\\n手\\n持\\n核\\n酸\\n检\\n测\\n仪\\n是\\n一\\n种\\n可\\n循\\n环\\n使\\n用\\n的\\n、\\n便\\n携\\n的\\n、\\n易\\n操\\n作\\n的\\n、\\n具\\n有\\n极\\n高\\n性\\n价\\n比\\n的\\n核\\n酸\\n检\\n测\\n设\\n备\\n，\\n重\\n量\\n2\\n8\\n0\\ng\\n，\\n能\\n与\\n手\\n机\\n实\\n时\\n交\\n互\\n，\\n可\\n放\\n入\\n \\n.\\n.\\n.\\n'\\n,\\n \\n'\\n长\\n期\\n致\\n力\\n于\\n分\\n子\\n诊\\n断\\n方\\n法\\n与\\n检\\n测\\n仪\\n器\\n的\\n研\\n究\\n，\\n通\\n过\\n分\\n析\\n化\\n学\\n、\\n分\\n子\\n生\\n物\\n学\\n以\\n及\\n工\\n程\\n技\\n术\\n（\\n机\\n械\\n、\\n电\\n子\\n、\\n计\\n算\\n机\\n等\\n）\\n的\\n多\\n学\\n科\\n交\\n叉\\n研\\n究\\n发\\n展\\n了\\n一\\n系\\n列\\n分\\n子\\n诊\\n断\\n的\\n新\\n原\\n理\\n、\\n新\\n方\\n法\\n和\\n新\\n装\\n置\\n。\\n'\\n,\\n \\n'\\n微\\n检\\n测\\nW\\ne\\nD\\n-\\nm\\ni\\nn\\ni\\n \\n—\\n—\\n \\n个\\n人\\n掌\\n上\\n核\\n酸\\n检\\n测\\n仪\\n—\\n—\\n—\\n—\\n我\\n们\\n致\\n力\\n于\\n用\\n微\\n检\\n测\\n实\\n现\\nW\\ne\\n检\\n测\\n【\\n产\\n品\\n介\\n绍\\n】\\n微\\n检\\n测\\nW\\ne\\nD\\n-\\nm\\ni\\nn\\ni\\n是\\n在\\nW\\ne\\nD\\n-\\n1\\n核\\n酸\\n检\\n测\\n仪\\n的\\n基\\n础\\n上\\n进\\n行\\n精\\n简\\n优\\n化\\n的\\n个\\n人\\n便\\n携\\n型\\n核\\n酸\\n检\\n测\\n \\n.\\n.\\n.\\n'\\n,\\n \\n'\\n.\\n.\\n.\\n \\n检\\n测\\n需\\n求\\n。\\n”\\n \\n应\\n对\\n上\\n述\\n产\\n业\\n需\\n求\\n，\\n上\\n海\\n海\\n洋\\n大\\n学\\n水\\n产\\n与\\n生\\n命\\n学\\n院\\n胡\\n鹏\\n教\\n授\\n团\\n队\\n与\\n杭\\n州\\n逸\\n检\\n科\\n技\\n有\\n限\\n公\\n司\\n的\\n宋\\n金\\n召\\n教\\n授\\n团\\n队\\n合\\n作\\n，\\n开\\n发\\n了\\n一\\n种\\n新\\n型\\n的\\n手\\n持\\n等\\n温\\n核\\n酸\\n \\n.\\n.\\n.\\n'\\n,\\n \\n'\\n待\\n遇\\n：\\n年\\n薪\\n1\\n2\\n-\\n2\\n0\\n万\\n，\\n业\\n绩\\n优\\n秀\\n者\\n另\\n有\\n年\\n终\\n奖\\n、\\n股\\n权\\n等\\n激\\n励\\n；\\n公\\n司\\n有\\n专\\n门\\n车\\n辆\\n，\\n供\\n外\\n出\\n业\\n务\\n使\\n用\\n。\\n招\\n聘\\n条\\n件\\n：\\n1\\n.\\n对\\nI\\nV\\nD\\n行\\n业\\n有\\n极\\n大\\n兴\\n趣\\n，\\n对\\n分\\n子\\nP\\nO\\nC\\nT\\n居\\n家\\n检\\n测\\n或\\n液\\n体\\n活\\n检\\n \\n.\\n.\\n.\\n'\\n]\")]}"
      ]
     },
     "execution_count": 7,
     "metadata": {},
     "output_type": "execute_result"
    }
   ],
   "source": [
    "result"
   ]
  },
  {
   "cell_type": "code",
   "execution_count": null,
   "metadata": {},
   "outputs": [],
   "source": []
  }
 ],
 "metadata": {
  "kernelspec": {
   "display_name": "RAG",
   "language": "python",
   "name": "python3"
  },
  "language_info": {
   "codemirror_mode": {
    "name": "ipython",
    "version": 3
   },
   "file_extension": ".py",
   "mimetype": "text/x-python",
   "name": "python",
   "nbconvert_exporter": "python",
   "pygments_lexer": "ipython3",
   "version": "3.10.14"
  }
 },
 "nbformat": 4,
 "nbformat_minor": 2
}
