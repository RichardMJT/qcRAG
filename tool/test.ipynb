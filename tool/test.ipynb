{
 "cells": [
  {
   "cell_type": "code",
   "execution_count": 1,
   "metadata": {},
   "outputs": [
    {
     "data": {
      "text/plain": [
       "'[\\'蔡徐坤，浙江温州人，中国大陆歌手、原创音乐制作人及演员。2012年通过参加综艺节目《向上吧！少年》进入中国内地娱乐圈。2015年参加中韩真人秀节目《星动亚洲》第一季和第二季，并于2016年10月成功通过10人男子组合SWIN正式出道。\\', \\'蔡徐坤 type: 中国歌手.\\', \\'蔡徐坤 entity_type: people, people.\\', \\'蔡徐坤 main_tab_text: 概览.\\', \\'蔡徐坤 kgmid: /g/11f5d47tdd.\\', \\'蔡徐坤 出生信息: 1998 年 8 月 2 日（26 岁)，温州市苍南县.\\', \\'蔡徐坤 身高: 1.84 米.\\', \\'蔡徐坤 乐队: NINE PERCENT (2018 年 – 2019 年)、 SWIN-S (自 2016 年)、 SWIN (自 2016 年).\\', \\'蔡徐坤 代表作品: 音乐作品 - 《情人》; 《YOUNG》; 《迷》; 综艺 - 《偶像练习生》; 《青春有你2》; 《奔跑吧》.\\', \\'蔡徐坤 出道作品: I Wanna Get Love.\\', \\'蔡徐坤 出道地点: 中国大陆.\\', \\'蔡徐坤（1998年8月2日—），浙江温州人，中国大陆歌手、原创音乐制作人及演员。2012年通过参加综艺节目《向上吧！少年》进入中国内地娱乐圈。2015年参加中韩真人秀 ...\\', \\'蔡徐坤（KUN），1998年8月2日出生于浙江省温州市，户籍湖南省吉首市，中国内地男歌手、演员、原创音乐制作人、MV导演。2012年8月，蔡徐坤参演的偶像剧《童话二分之一》 ...\\', \\'2018年，蔡徐坤在大热选秀节目《偶像练习生》中C位出道，一跃成为了炙手可热的顶流明星，吸引很多00后粉丝。\\', \\'KUN (蔡徐坤) – \"Remedy\" @ ART LAB | Official Performance Video · Comments745.\\', \\'返回. 蔡徐坤. 关注56. 粉丝3816.7万. 微博认证：歌手、制作人、NINE PERCENT队长. 精选; 微博; 视频; 超话; 相册. 聊天. 关注.\\', \\'蔡徐坤 · Afterglow · Remedy · 情人 · Hug me (抱我) · I Wanna Get Love · RIDE OR DIE (至死不渝) · Spotlight (聚光灯) · Hug me (Remix).\\', \\'Videos · KUN (蔡徐坤) – Remedy (Teaser) · KUN (蔡徐坤) – Ride Or Die | Official Live Stage @ ART LAB · KUN (蔡徐坤) – Afterglow | Official Live Stage @ ART LAB.\\', \\'蔡徐坤（KUN，1998年8月2日—），出生于浙江省温州市，中国内地男歌手、原创音乐制作人、MV导演、演员。\\', \\'乍看之下，还真让人激动：难道被“封杀”的蔡徐坤在音乐领域斩获格莱美大奖，即将上演王者归来？ 顿时，ikun和黑子们敏感的神经都被触动了。 点进去，不出所 ...\\', \\'98年出生在浙江温州的蔡徐坤有在韩国培训的经历，16年加入男团SWIN.18年参加《偶像练习生》以得票数第一c位出道，从此一路爆红，成长为顶流明星！不得不说 ...\\']'"
      ]
     },
     "execution_count": 1,
     "metadata": {},
     "output_type": "execute_result"
    }
   ],
   "source": [
    "from search import get_web_search_tool\n",
    "\n",
    "web_search_tool = get_web_search_tool()\n",
    "web_search_tool.run(\"蔡徐坤\")"
   ]
  }
 ],
 "metadata": {
  "kernelspec": {
   "display_name": "RAG",
   "language": "python",
   "name": "python3"
  },
  "language_info": {
   "codemirror_mode": {
    "name": "ipython",
    "version": 3
   },
   "file_extension": ".py",
   "mimetype": "text/x-python",
   "name": "python",
   "nbconvert_exporter": "python",
   "pygments_lexer": "ipython3",
   "version": "3.10.14"
  }
 },
 "nbformat": 4,
 "nbformat_minor": 2
}
